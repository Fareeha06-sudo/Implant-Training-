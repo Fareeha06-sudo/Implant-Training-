{
 "cells": [
  {
   "cell_type": "code",
   "execution_count": 1,
   "id": "279fb924-af4a-47ba-9e34-9f50665a146e",
   "metadata": {},
   "outputs": [],
   "source": [
    "# Function definition\n",
    "def show():\n",
    "    print ('This is our first function')\n",
    "    "
   ]
  },
  {
   "cell_type": "code",
   "execution_count": 2,
   "id": "b48af84f-a48d-4823-a374-42fac5c99fda",
   "metadata": {},
   "outputs": [
    {
     "name": "stdout",
     "output_type": "stream",
     "text": [
      "This is our first function\n"
     ]
    }
   ],
   "source": [
    "show()"
   ]
  },
  {
   "cell_type": "code",
   "execution_count": 3,
   "id": "e4f9155d-f729-4c50-beb6-e13a7c6c367d",
   "metadata": {},
   "outputs": [
    {
     "name": "stdout",
     "output_type": "stream",
     "text": [
      "This is our first function\n",
      "This is our first function\n",
      "This is our first function\n"
     ]
    }
   ],
   "source": [
    "show()\n",
    "show()\n",
    "show()"
   ]
  },
  {
   "cell_type": "code",
   "execution_count": 4,
   "id": "eacb7d4d-1840-4945-85de-cba2a00515d6",
   "metadata": {},
   "outputs": [],
   "source": [
    "# Parameterized functon"
   ]
  },
  {
   "cell_type": "code",
   "execution_count": 5,
   "id": "b0db46ab-b3ff-4100-bcde-e0971f3b644c",
   "metadata": {},
   "outputs": [],
   "source": [
    "def square(n):\n",
    "    result = n*n\n",
    "    print('Square is :', result)"
   ]
  },
  {
   "cell_type": "code",
   "execution_count": 6,
   "id": "09009c5e-59ba-47eb-85a4-a7ea13ecf4a6",
   "metadata": {},
   "outputs": [
    {
     "name": "stdout",
     "output_type": "stream",
     "text": [
      "Square is : 9\n"
     ]
    }
   ],
   "source": [
    "square(3)"
   ]
  },
  {
   "cell_type": "code",
   "execution_count": 7,
   "id": "6e32413a-91ea-4fc3-8458-b62deef58459",
   "metadata": {},
   "outputs": [
    {
     "name": "stdin",
     "output_type": "stream",
     "text": [
      "Enetr a number : 3\n"
     ]
    },
    {
     "name": "stdout",
     "output_type": "stream",
     "text": [
      "Square is : 9\n"
     ]
    }
   ],
   "source": [
    "num= int(input(\"Enetr a number :\"))\n",
    "square(num)"
   ]
  },
  {
   "cell_type": "code",
   "execution_count": 8,
   "id": "da3374a2-141e-412e-8c59-5ef5415a4a6d",
   "metadata": {},
   "outputs": [],
   "source": [
    "# multiparameterized function "
   ]
  },
  {
   "cell_type": "code",
   "execution_count": 9,
   "id": "592fcbb5-7811-430f-b292-ecb26850d587",
   "metadata": {},
   "outputs": [],
   "source": [
    "def greatest(n1,n2):\n",
    "    if n1>n2:\n",
    "        print(n1,'is  largest ')\n",
    "    else :\n",
    "        print(n2, 'is largest')\n",
    "        "
   ]
  },
  {
   "cell_type": "code",
   "execution_count": 10,
   "id": "9c856b49-5355-43da-a007-bdaf80243993",
   "metadata": {},
   "outputs": [
    {
     "name": "stdin",
     "output_type": "stream",
     "text": [
      "ENter 1st number 45\n",
      "ENter 2nd number 78\n"
     ]
    },
    {
     "name": "stdout",
     "output_type": "stream",
     "text": [
      "78 is largest\n"
     ]
    }
   ],
   "source": [
    "num1 = int(input('ENter 1st number'))\n",
    "num2 = int(input('ENter 2nd number'))\n",
    "greatest(num1,num2)"
   ]
  },
  {
   "cell_type": "code",
   "execution_count": 19,
   "id": "4b57ae01-3321-4d04-810c-32239bf51188",
   "metadata": {},
   "outputs": [],
   "source": [
    "def nnum(name , n):\n",
    "    for i in range(n) :\n",
    "        print(name)"
   ]
  },
  {
   "cell_type": "code",
   "execution_count": 21,
   "id": "3c0c5b2d-cd0a-414c-8a8d-c88fc870897f",
   "metadata": {},
   "outputs": [
    {
     "name": "stdout",
     "output_type": "stream",
     "text": [
      "Fareeha\n",
      "Fareeha\n",
      "Fareeha\n",
      "Fareeha\n",
      "Fareeha\n",
      "Fareeha\n",
      "Fareeha\n",
      "Fareeha\n",
      "Fareeha\n",
      "Fareeha\n"
     ]
    }
   ],
   "source": [
    "nnum('Fareeha', 10)"
   ]
  },
  {
   "cell_type": "code",
   "execution_count": 29,
   "id": "a2f7e10c-6781-473c-92f9-9a3fa8bd93fc",
   "metadata": {},
   "outputs": [],
   "source": [
    "# factorial\n",
    "def fac(num):\n",
    "    fact=1\n",
    "    for i in range(1,num+1):\n",
    "        fact = fact*i\n",
    "    print(fact)        \n",
    "        "
   ]
  },
  {
   "cell_type": "code",
   "execution_count": 30,
   "id": "f6ca2202-c188-4a29-a114-f60a49df552e",
   "metadata": {},
   "outputs": [
    {
     "name": "stdout",
     "output_type": "stream",
     "text": [
      "120\n"
     ]
    }
   ],
   "source": [
    "fac(5)"
   ]
  },
  {
   "cell_type": "code",
   "execution_count": 31,
   "id": "bc091d6f-6d62-4b89-8146-eb2a1c4ad7a3",
   "metadata": {},
   "outputs": [],
   "source": [
    "def square(n):\n",
    "    result = n*n\n",
    "    return result"
   ]
  },
  {
   "cell_type": "code",
   "execution_count": 32,
   "id": "d51b8bba-b495-4f45-94cf-024d93735e2f",
   "metadata": {},
   "outputs": [
    {
     "data": {
      "text/plain": [
       "36"
      ]
     },
     "execution_count": 32,
     "metadata": {},
     "output_type": "execute_result"
    }
   ],
   "source": [
    "square(6)"
   ]
  },
  {
   "cell_type": "markdown",
   "id": "366e0c75-9110-4c12-b380-a4c81f7006ab",
   "metadata": {},
   "source": [
    "#### Difference between return and print"
   ]
  },
  {
   "cell_type": "code",
   "execution_count": 34,
   "id": "d61f48da-9990-482d-803e-007441463531",
   "metadata": {},
   "outputs": [
    {
     "name": "stdout",
     "output_type": "stream",
     "text": [
      "15\n",
      "None\n",
      "15\n",
      "Result: None\n"
     ]
    }
   ],
   "source": [
    "def add(a,b):\n",
    "    result = a+b\n",
    "    print(result)\n",
    "print(add(5,10))\n",
    "op= add(5,10)\n",
    "print('Result:', op)\n"
   ]
  },
  {
   "cell_type": "code",
   "execution_count": 35,
   "id": "20677a4d-fd11-4066-976a-afc7f345dc0f",
   "metadata": {},
   "outputs": [
    {
     "name": "stdout",
     "output_type": "stream",
     "text": [
      "15\n",
      "Result: 15\n"
     ]
    }
   ],
   "source": [
    "def add(a,b):\n",
    "    result = a+b\n",
    "    return result\n",
    "print(add(5,10))\n",
    "op= add(5,10)\n",
    "print('Result:', op)"
   ]
  },
  {
   "cell_type": "code",
   "execution_count": 36,
   "id": "3c62c39a-c76e-46bb-bdcd-d9165b91e9d3",
   "metadata": {},
   "outputs": [],
   "source": [
    "def largst(a,b):\n",
    "    if a>b:\n",
    "        return a\n",
    "    elif a==b:\n",
    "        return 'Equal'\n",
    "    else:\n",
    "        return b"
   ]
  },
  {
   "cell_type": "code",
   "execution_count": 38,
   "id": "0b0abe7d-5c9d-4d4e-bf1f-3b0f8c9943ca",
   "metadata": {},
   "outputs": [
    {
     "data": {
      "text/plain": [
       "50"
      ]
     },
     "execution_count": 38,
     "metadata": {},
     "output_type": "execute_result"
    }
   ],
   "source": [
    "largst (50,33)"
   ]
  },
  {
   "cell_type": "code",
   "execution_count": 39,
   "id": "3c3942bf-cb7c-40d3-aedd-281fc8f8ed61",
   "metadata": {},
   "outputs": [],
   "source": [
    "# perm and comb\n",
    "# ncr = n! / r!(n-r)!"
   ]
  },
  {
   "cell_type": "code",
   "execution_count": 40,
   "id": "a0059742-c1cb-422a-a31b-527a047060ab",
   "metadata": {},
   "outputs": [],
   "source": [
    "def fac(num):\n",
    "    fact=1\n",
    "    for i in range(1,num+1):\n",
    "        fact = fact*i\n",
    "    return fact"
   ]
  },
  {
   "cell_type": "code",
   "execution_count": 42,
   "id": "83414d93-0fa1-457b-a4d6-d3485d59d9e2",
   "metadata": {},
   "outputs": [
    {
     "name": "stdin",
     "output_type": "stream",
     "text": [
      " Total: 10\n",
      " Combinatins of : 3\n"
     ]
    },
    {
     "name": "stdout",
     "output_type": "stream",
     "text": [
      "120.0\n"
     ]
    }
   ],
   "source": [
    "n= int(input(' Total:'))\n",
    "r= int(input(' Combinatins of :'))\n",
    "\n",
    "ncr= fac(n) / (fac(r) * fac(n-r))\n",
    "print(ncr)"
   ]
  },
  {
   "cell_type": "code",
   "execution_count": 46,
   "id": "8c60eb1c-f029-4573-82c7-198073676a32",
   "metadata": {},
   "outputs": [],
   "source": [
    "def cal(n):\n",
    "    sq= n*n\n",
    "    cu= n**3\n",
    "    return sq, cu"
   ]
  },
  {
   "cell_type": "code",
   "execution_count": 47,
   "id": "88438414-aeda-4c60-a5e5-0188cd17151e",
   "metadata": {},
   "outputs": [
    {
     "data": {
      "text/plain": [
       "(9, 27)"
      ]
     },
     "execution_count": 47,
     "metadata": {},
     "output_type": "execute_result"
    }
   ],
   "source": [
    "cal(3)"
   ]
  },
  {
   "cell_type": "code",
   "execution_count": 48,
   "id": "715ffffc-36ba-4cce-aa12-374d3b3c74dc",
   "metadata": {},
   "outputs": [
    {
     "name": "stdin",
     "output_type": "stream",
     "text": [
      "Enter a number: 6\n"
     ]
    },
    {
     "name": "stdout",
     "output_type": "stream",
     "text": [
      "Square: 36\n",
      "Cube: 216\n"
     ]
    }
   ],
   "source": [
    "n = int(input('Enter a number:'))\n",
    "x,y= cal(n)\n",
    "print('Square:', x)\n",
    "print('Cube:', y)"
   ]
  },
  {
   "cell_type": "code",
   "execution_count": 52,
   "id": "5d0b8ffd-c3dc-4795-8e40-8d7be3e88892",
   "metadata": {},
   "outputs": [],
   "source": [
    "# Default paremeter\n",
    "def ad (a= 5 , b= 7 , c=10):\n",
    "   result = a+b+c\n",
    "   return result"
   ]
  },
  {
   "cell_type": "code",
   "execution_count": 53,
   "id": "535d6fcf-4955-4058-ae97-31f6612c2bc9",
   "metadata": {},
   "outputs": [
    {
     "data": {
      "text/plain": [
       "22"
      ]
     },
     "execution_count": 53,
     "metadata": {},
     "output_type": "execute_result"
    }
   ],
   "source": [
    "ad()"
   ]
  },
  {
   "cell_type": "code",
   "execution_count": 54,
   "id": "c8e4259c-a9ea-42d8-a5a9-70a4aa484c02",
   "metadata": {},
   "outputs": [
    {
     "data": {
      "text/plain": [
       "27"
      ]
     },
     "execution_count": 54,
     "metadata": {},
     "output_type": "execute_result"
    }
   ],
   "source": [
    "ad(10)"
   ]
  },
  {
   "cell_type": "code",
   "execution_count": 55,
   "id": "7c87d2cc-2363-4319-a927-e46482d5c014",
   "metadata": {},
   "outputs": [
    {
     "data": {
      "text/plain": [
       "30"
      ]
     },
     "execution_count": 55,
     "metadata": {},
     "output_type": "execute_result"
    }
   ],
   "source": [
    "ad(10,10)"
   ]
  },
  {
   "cell_type": "code",
   "execution_count": 58,
   "id": "56fed48f-eefc-44ab-82ae-682f6579bcde",
   "metadata": {},
   "outputs": [
    {
     "data": {
      "text/plain": [
       "23"
      ]
     },
     "execution_count": 58,
     "metadata": {},
     "output_type": "execute_result"
    }
   ],
   "source": [
    "ad(a=10,c=6)"
   ]
  },
  {
   "cell_type": "code",
   "execution_count": 60,
   "id": "7f702548-0fb9-4d97-92b7-d8bbb54cb919",
   "metadata": {},
   "outputs": [
    {
     "data": {
      "text/plain": [
       "22"
      ]
     },
     "execution_count": 60,
     "metadata": {},
     "output_type": "execute_result"
    }
   ],
   "source": [
    "ad()\n"
   ]
  },
  {
   "cell_type": "code",
   "execution_count": 62,
   "id": "751c3122-a35a-4d5e-a405-c25ee6e56fe8",
   "metadata": {},
   "outputs": [],
   "source": [
    "def aa (b, a= 5 , c=10):\n",
    "   result = a+b+c\n",
    "   return result"
   ]
  },
  {
   "cell_type": "code",
   "execution_count": 63,
   "id": "10f10755-1a69-41c7-97bd-f55b0a1f8894",
   "metadata": {},
   "outputs": [
    {
     "data": {
      "text/plain": [
       "19"
      ]
     },
     "execution_count": 63,
     "metadata": {},
     "output_type": "execute_result"
    }
   ],
   "source": [
    "aa(4)"
   ]
  },
  {
   "cell_type": "code",
   "execution_count": 64,
   "id": "a96ec05b-3c3b-44b0-83c0-99217732095e",
   "metadata": {},
   "outputs": [],
   "source": [
    "def anya(*a):\n",
    "    print(*a)"
   ]
  },
  {
   "cell_type": "code",
   "execution_count": 65,
   "id": "8cc3f725-30c9-4e5f-9292-b6abf782b8f8",
   "metadata": {},
   "outputs": [
    {
     "name": "stdout",
     "output_type": "stream",
     "text": [
      "1 2 6 8\n"
     ]
    }
   ],
   "source": [
    "anya(1,2,6,8)"
   ]
  },
  {
   "cell_type": "code",
   "execution_count": 66,
   "id": "5ecce2fb-c215-4384-8411-ff3289d0267b",
   "metadata": {},
   "outputs": [],
   "source": [
    "def anyb(*a):\n",
    "    for i in a:\n",
    "        print(i)\n",
    "   "
   ]
  },
  {
   "cell_type": "code",
   "execution_count": 68,
   "id": "9a1e5f44-80e4-4a9d-b537-adb26fcd466e",
   "metadata": {},
   "outputs": [
    {
     "name": "stdout",
     "output_type": "stream",
     "text": [
      "23\n",
      "56\n",
      "78\n",
      "91\n"
     ]
    }
   ],
   "source": [
    "anyb(23,56,78,91)"
   ]
  },
  {
   "cell_type": "code",
   "execution_count": 69,
   "id": "01343831-64b8-44ec-9371-4603916ef96a",
   "metadata": {},
   "outputs": [],
   "source": [
    "# lambda function\n",
    "square = lambda x: x*x\n"
   ]
  },
  {
   "cell_type": "code",
   "execution_count": 70,
   "id": "0f1937f0-86e4-4a04-8001-c453cc19e52d",
   "metadata": {},
   "outputs": [
    {
     "data": {
      "text/plain": [
       "25"
      ]
     },
     "execution_count": 70,
     "metadata": {},
     "output_type": "execute_result"
    }
   ],
   "source": [
    "square(5)"
   ]
  },
  {
   "cell_type": "code",
   "execution_count": 71,
   "id": "6c9b8b69-f34a-44aa-bd26-166476c35e6a",
   "metadata": {},
   "outputs": [],
   "source": [
    "plus= lambda x,y : x+y\n"
   ]
  },
  {
   "cell_type": "code",
   "execution_count": 72,
   "id": "d7288891-b2e5-47b1-98a3-8229e3e5389e",
   "metadata": {},
   "outputs": [
    {
     "data": {
      "text/plain": [
       "195"
      ]
     },
     "execution_count": 72,
     "metadata": {},
     "output_type": "execute_result"
    }
   ],
   "source": [
    "plus(50,145)"
   ]
  },
  {
   "cell_type": "code",
   "execution_count": 73,
   "id": "ee54e22d-334e-4c1e-a5b2-ef0aac5d5eb7",
   "metadata": {},
   "outputs": [],
   "source": [
    "# Filter\n",
    "num = [26,52,31,67,94]"
   ]
  },
  {
   "cell_type": "code",
   "execution_count": 74,
   "id": "74cf5d59-4a76-4751-bcb5-16917fc1da66",
   "metadata": {},
   "outputs": [],
   "source": [
    "new = filter (lambda x: x>40, num)"
   ]
  },
  {
   "cell_type": "code",
   "execution_count": 76,
   "id": "07ad087f-daed-4c4b-a27c-758e83f65461",
   "metadata": {},
   "outputs": [
    {
     "data": {
      "text/plain": [
       "[52, 67, 94]"
      ]
     },
     "execution_count": 76,
     "metadata": {},
     "output_type": "execute_result"
    }
   ],
   "source": [
    "list(new)"
   ]
  },
  {
   "cell_type": "code",
   "execution_count": 77,
   "id": "bacc0945-66a7-4120-a630-6d2e204b5604",
   "metadata": {},
   "outputs": [],
   "source": [
    "# mapping \n",
    "ne1 = map (lambda x: x>40, num)"
   ]
  },
  {
   "cell_type": "code",
   "execution_count": 78,
   "id": "5c83c0e9-4b4c-4619-9a1d-6379cf298ed1",
   "metadata": {},
   "outputs": [
    {
     "data": {
      "text/plain": [
       "[False, True, False, True, True]"
      ]
     },
     "execution_count": 78,
     "metadata": {},
     "output_type": "execute_result"
    }
   ],
   "source": [
    "list(ne1)"
   ]
  },
  {
   "cell_type": "code",
   "execution_count": 79,
   "id": "9991a536-e95c-4cf0-bb62-232ce9306eb9",
   "metadata": {},
   "outputs": [],
   "source": [
    "ne2 = map (lambda x: x/2, num)"
   ]
  },
  {
   "cell_type": "code",
   "execution_count": 80,
   "id": "d77a3ca4-5012-4dbb-9ff8-642d0d84316d",
   "metadata": {},
   "outputs": [
    {
     "data": {
      "text/plain": [
       "[13.0, 26.0, 15.5, 33.5, 47.0]"
      ]
     },
     "execution_count": 80,
     "metadata": {},
     "output_type": "execute_result"
    }
   ],
   "source": [
    "list(ne2)"
   ]
  },
  {
   "cell_type": "markdown",
   "id": "bb90442a-cffb-4806-9e21-976408f65e48",
   "metadata": {},
   "source": [
    "## Modules"
   ]
  },
  {
   "cell_type": "code",
   "execution_count": 81,
   "id": "614c50e8-7a26-4e11-99c8-8c66f1f16a89",
   "metadata": {},
   "outputs": [],
   "source": [
    "import math"
   ]
  },
  {
   "cell_type": "code",
   "execution_count": 82,
   "id": "49ac941d-39e0-47a6-bc8d-8ad3251a1ad0",
   "metadata": {},
   "outputs": [
    {
     "name": "stdout",
     "output_type": "stream",
     "text": [
      "Help on built-in module math:\n",
      "\n",
      "NAME\n",
      "    math\n",
      "\n",
      "DESCRIPTION\n",
      "    This module provides access to the mathematical functions\n",
      "    defined by the C standard.\n",
      "\n",
      "FUNCTIONS\n",
      "    acos(x, /)\n",
      "        Return the arc cosine (measured in radians) of x.\n",
      "        \n",
      "        The result is between 0 and pi.\n",
      "    \n",
      "    acosh(x, /)\n",
      "        Return the inverse hyperbolic cosine of x.\n",
      "    \n",
      "    asin(x, /)\n",
      "        Return the arc sine (measured in radians) of x.\n",
      "        \n",
      "        The result is between -pi/2 and pi/2.\n",
      "    \n",
      "    asinh(x, /)\n",
      "        Return the inverse hyperbolic sine of x.\n",
      "    \n",
      "    atan(x, /)\n",
      "        Return the arc tangent (measured in radians) of x.\n",
      "        \n",
      "        The result is between -pi/2 and pi/2.\n",
      "    \n",
      "    atan2(y, x, /)\n",
      "        Return the arc tangent (measured in radians) of y/x.\n",
      "        \n",
      "        Unlike atan(y/x), the signs of both x and y are considered.\n",
      "    \n",
      "    atanh(x, /)\n",
      "        Return the inverse hyperbolic tangent of x.\n",
      "    \n",
      "    cbrt(x, /)\n",
      "        Return the cube root of x.\n",
      "    \n",
      "    ceil(x, /)\n",
      "        Return the ceiling of x as an Integral.\n",
      "        \n",
      "        This is the smallest integer >= x.\n",
      "    \n",
      "    comb(n, k, /)\n",
      "        Number of ways to choose k items from n items without repetition and without order.\n",
      "        \n",
      "        Evaluates to n! / (k! * (n - k)!) when k <= n and evaluates\n",
      "        to zero when k > n.\n",
      "        \n",
      "        Also called the binomial coefficient because it is equivalent\n",
      "        to the coefficient of k-th term in polynomial expansion of the\n",
      "        expression (1 + x)**n.\n",
      "        \n",
      "        Raises TypeError if either of the arguments are not integers.\n",
      "        Raises ValueError if either of the arguments are negative.\n",
      "    \n",
      "    copysign(x, y, /)\n",
      "        Return a float with the magnitude (absolute value) of x but the sign of y.\n",
      "        \n",
      "        On platforms that support signed zeros, copysign(1.0, -0.0)\n",
      "        returns -1.0.\n",
      "    \n",
      "    cos(x, /)\n",
      "        Return the cosine of x (measured in radians).\n",
      "    \n",
      "    cosh(x, /)\n",
      "        Return the hyperbolic cosine of x.\n",
      "    \n",
      "    degrees(x, /)\n",
      "        Convert angle x from radians to degrees.\n",
      "    \n",
      "    dist(p, q, /)\n",
      "        Return the Euclidean distance between two points p and q.\n",
      "        \n",
      "        The points should be specified as sequences (or iterables) of\n",
      "        coordinates.  Both inputs must have the same dimension.\n",
      "        \n",
      "        Roughly equivalent to:\n",
      "            sqrt(sum((px - qx) ** 2.0 for px, qx in zip(p, q)))\n",
      "    \n",
      "    erf(x, /)\n",
      "        Error function at x.\n",
      "    \n",
      "    erfc(x, /)\n",
      "        Complementary error function at x.\n",
      "    \n",
      "    exp(x, /)\n",
      "        Return e raised to the power of x.\n",
      "    \n",
      "    exp2(x, /)\n",
      "        Return 2 raised to the power of x.\n",
      "    \n",
      "    expm1(x, /)\n",
      "        Return exp(x)-1.\n",
      "        \n",
      "        This function avoids the loss of precision involved in the direct evaluation of exp(x)-1 for small x.\n",
      "    \n",
      "    fabs(x, /)\n",
      "        Return the absolute value of the float x.\n",
      "    \n",
      "    factorial(n, /)\n",
      "        Find n!.\n",
      "        \n",
      "        Raise a ValueError if x is negative or non-integral.\n",
      "    \n",
      "    floor(x, /)\n",
      "        Return the floor of x as an Integral.\n",
      "        \n",
      "        This is the largest integer <= x.\n",
      "    \n",
      "    fmod(x, y, /)\n",
      "        Return fmod(x, y), according to platform C.\n",
      "        \n",
      "        x % y may differ.\n",
      "    \n",
      "    frexp(x, /)\n",
      "        Return the mantissa and exponent of x, as pair (m, e).\n",
      "        \n",
      "        m is a float and e is an int, such that x = m * 2.**e.\n",
      "        If x is 0, m and e are both 0.  Else 0.5 <= abs(m) < 1.0.\n",
      "    \n",
      "    fsum(seq, /)\n",
      "        Return an accurate floating point sum of values in the iterable seq.\n",
      "        \n",
      "        Assumes IEEE-754 floating point arithmetic.\n",
      "    \n",
      "    gamma(x, /)\n",
      "        Gamma function at x.\n",
      "    \n",
      "    gcd(*integers)\n",
      "        Greatest Common Divisor.\n",
      "    \n",
      "    hypot(...)\n",
      "        hypot(*coordinates) -> value\n",
      "        \n",
      "        Multidimensional Euclidean distance from the origin to a point.\n",
      "        \n",
      "        Roughly equivalent to:\n",
      "            sqrt(sum(x**2 for x in coordinates))\n",
      "        \n",
      "        For a two dimensional point (x, y), gives the hypotenuse\n",
      "        using the Pythagorean theorem:  sqrt(x*x + y*y).\n",
      "        \n",
      "        For example, the hypotenuse of a 3/4/5 right triangle is:\n",
      "        \n",
      "            >>> hypot(3.0, 4.0)\n",
      "            5.0\n",
      "    \n",
      "    isclose(a, b, *, rel_tol=1e-09, abs_tol=0.0)\n",
      "        Determine whether two floating point numbers are close in value.\n",
      "        \n",
      "          rel_tol\n",
      "            maximum difference for being considered \"close\", relative to the\n",
      "            magnitude of the input values\n",
      "          abs_tol\n",
      "            maximum difference for being considered \"close\", regardless of the\n",
      "            magnitude of the input values\n",
      "        \n",
      "        Return True if a is close in value to b, and False otherwise.\n",
      "        \n",
      "        For the values to be considered close, the difference between them\n",
      "        must be smaller than at least one of the tolerances.\n",
      "        \n",
      "        -inf, inf and NaN behave similarly to the IEEE 754 Standard.  That\n",
      "        is, NaN is not close to anything, even itself.  inf and -inf are\n",
      "        only close to themselves.\n",
      "    \n",
      "    isfinite(x, /)\n",
      "        Return True if x is neither an infinity nor a NaN, and False otherwise.\n",
      "    \n",
      "    isinf(x, /)\n",
      "        Return True if x is a positive or negative infinity, and False otherwise.\n",
      "    \n",
      "    isnan(x, /)\n",
      "        Return True if x is a NaN (not a number), and False otherwise.\n",
      "    \n",
      "    isqrt(n, /)\n",
      "        Return the integer part of the square root of the input.\n",
      "    \n",
      "    lcm(*integers)\n",
      "        Least Common Multiple.\n",
      "    \n",
      "    ldexp(x, i, /)\n",
      "        Return x * (2**i).\n",
      "        \n",
      "        This is essentially the inverse of frexp().\n",
      "    \n",
      "    lgamma(x, /)\n",
      "        Natural logarithm of absolute value of Gamma function at x.\n",
      "    \n",
      "    log(...)\n",
      "        log(x, [base=math.e])\n",
      "        Return the logarithm of x to the given base.\n",
      "        \n",
      "        If the base not specified, returns the natural logarithm (base e) of x.\n",
      "    \n",
      "    log10(x, /)\n",
      "        Return the base 10 logarithm of x.\n",
      "    \n",
      "    log1p(x, /)\n",
      "        Return the natural logarithm of 1+x (base e).\n",
      "        \n",
      "        The result is computed in a way which is accurate for x near zero.\n",
      "    \n",
      "    log2(x, /)\n",
      "        Return the base 2 logarithm of x.\n",
      "    \n",
      "    modf(x, /)\n",
      "        Return the fractional and integer parts of x.\n",
      "        \n",
      "        Both results carry the sign of x and are floats.\n",
      "    \n",
      "    nextafter(x, y, /)\n",
      "        Return the next floating-point value after x towards y.\n",
      "    \n",
      "    perm(n, k=None, /)\n",
      "        Number of ways to choose k items from n items without repetition and with order.\n",
      "        \n",
      "        Evaluates to n! / (n - k)! when k <= n and evaluates\n",
      "        to zero when k > n.\n",
      "        \n",
      "        If k is not specified or is None, then k defaults to n\n",
      "        and the function returns n!.\n",
      "        \n",
      "        Raises TypeError if either of the arguments are not integers.\n",
      "        Raises ValueError if either of the arguments are negative.\n",
      "    \n",
      "    pow(x, y, /)\n",
      "        Return x**y (x to the power of y).\n",
      "    \n",
      "    prod(iterable, /, *, start=1)\n",
      "        Calculate the product of all the elements in the input iterable.\n",
      "        \n",
      "        The default start value for the product is 1.\n",
      "        \n",
      "        When the iterable is empty, return the start value.  This function is\n",
      "        intended specifically for use with numeric values and may reject\n",
      "        non-numeric types.\n",
      "    \n",
      "    radians(x, /)\n",
      "        Convert angle x from degrees to radians.\n",
      "    \n",
      "    remainder(x, y, /)\n",
      "        Difference between x and the closest integer multiple of y.\n",
      "        \n",
      "        Return x - n*y where n*y is the closest integer multiple of y.\n",
      "        In the case where x is exactly halfway between two multiples of\n",
      "        y, the nearest even value of n is used. The result is always exact.\n",
      "    \n",
      "    sin(x, /)\n",
      "        Return the sine of x (measured in radians).\n",
      "    \n",
      "    sinh(x, /)\n",
      "        Return the hyperbolic sine of x.\n",
      "    \n",
      "    sqrt(x, /)\n",
      "        Return the square root of x.\n",
      "    \n",
      "    tan(x, /)\n",
      "        Return the tangent of x (measured in radians).\n",
      "    \n",
      "    tanh(x, /)\n",
      "        Return the hyperbolic tangent of x.\n",
      "    \n",
      "    trunc(x, /)\n",
      "        Truncates the Real x to the nearest Integral toward 0.\n",
      "        \n",
      "        Uses the __trunc__ magic method.\n",
      "    \n",
      "    ulp(x, /)\n",
      "        Return the value of the least significant bit of the float x.\n",
      "\n",
      "DATA\n",
      "    e = 2.718281828459045\n",
      "    inf = inf\n",
      "    nan = nan\n",
      "    pi = 3.141592653589793\n",
      "    tau = 6.283185307179586\n",
      "\n",
      "FILE\n",
      "    (built-in)\n",
      "\n",
      "\n"
     ]
    }
   ],
   "source": [
    "help(math)"
   ]
  },
  {
   "cell_type": "code",
   "execution_count": 83,
   "id": "a2f5ca68-f1b0-426a-a58c-5618e038f3ee",
   "metadata": {},
   "outputs": [
    {
     "data": {
      "text/plain": [
       "10.0"
      ]
     },
     "execution_count": 83,
     "metadata": {},
     "output_type": "execute_result"
    }
   ],
   "source": [
    "math.sqrt(100)"
   ]
  },
  {
   "cell_type": "code",
   "execution_count": 84,
   "id": "14623392-d9d6-4954-9e11-d251eccd3c16",
   "metadata": {},
   "outputs": [
    {
     "data": {
      "text/plain": [
       "0.8939966636005579"
      ]
     },
     "execution_count": 84,
     "metadata": {},
     "output_type": "execute_result"
    }
   ],
   "source": [
    "math.sin(90)"
   ]
  },
  {
   "cell_type": "code",
   "execution_count": 85,
   "id": "2e138860-9d7a-4bf0-b662-d89c4bdd7f6f",
   "metadata": {},
   "outputs": [
    {
     "data": {
      "text/plain": [
       "1.3862943611198906"
      ]
     },
     "execution_count": 85,
     "metadata": {},
     "output_type": "execute_result"
    }
   ],
   "source": [
    "math. log(4)"
   ]
  },
  {
   "cell_type": "code",
   "execution_count": null,
   "id": "2382f6f8-5ac5-43d2-bf3b-65e2b9cfa881",
   "metadata": {},
   "outputs": [],
   "source": [
    "# read a radius and find area\n",
    "import math\n",
    "ra= int(input(\"Enter radius of circle:\"))\n",
    "area= 2*ra*math.pi\n",
    "print(area)"
   ]
  },
  {
   "cell_type": "code",
   "execution_count": 87,
   "id": "81346e65-6cd6-4385-bf3d-8d4fc25f8ec8",
   "metadata": {},
   "outputs": [],
   "source": [
    "import time"
   ]
  },
  {
   "cell_type": "code",
   "execution_count": 88,
   "id": "3f98cbef-2139-418e-98f2-e1dea8c09ed0",
   "metadata": {},
   "outputs": [
    {
     "data": {
      "text/plain": [
       "'Mon Jun 10 12:11:24 2024'"
      ]
     },
     "execution_count": 88,
     "metadata": {},
     "output_type": "execute_result"
    }
   ],
   "source": [
    "time.asctime()"
   ]
  },
  {
   "cell_type": "code",
   "execution_count": 92,
   "id": "3ab2fc91-5396-487a-8114-99230b0e05af",
   "metadata": {},
   "outputs": [
    {
     "name": "stdout",
     "output_type": "stream",
     "text": [
      "hi\n",
      "Done\n"
     ]
    }
   ],
   "source": [
    "print('hi')\n",
    "time.sleep(10)\n",
    "print('Done')"
   ]
  },
  {
   "cell_type": "code",
   "execution_count": null,
   "id": "4189c715-94b1-40ef-ad2b-098e2b1aa8bb",
   "metadata": {},
   "outputs": [],
   "source": [
    "# giving an alias"
   ]
  },
  {
   "cell_type": "code",
   "execution_count": 1,
   "id": "0388ac10-3661-4eaa-acc7-9ea2d97f4be9",
   "metadata": {},
   "outputs": [],
   "source": [
    "import time as t "
   ]
  },
  {
   "cell_type": "code",
   "execution_count": 2,
   "id": "a46b4983-1c81-426a-8a06-4e15595019e4",
   "metadata": {},
   "outputs": [
    {
     "data": {
      "text/plain": [
       "'Sun Jun 16 14:28:32 2024'"
      ]
     },
     "execution_count": 2,
     "metadata": {},
     "output_type": "execute_result"
    }
   ],
   "source": [
    "t.asctime()"
   ]
  },
  {
   "cell_type": "code",
   "execution_count": null,
   "id": "71f0a5ec-9574-4e2a-a290-2b8f4dc1d363",
   "metadata": {},
   "outputs": [],
   "source": [
    "# import user define module"
   ]
  }
 ],
 "metadata": {
  "kernelspec": {
   "display_name": "Python 3 (ipykernel)",
   "language": "python",
   "name": "python3"
  },
  "language_info": {
   "codemirror_mode": {
    "name": "ipython",
    "version": 3
   },
   "file_extension": ".py",
   "mimetype": "text/x-python",
   "name": "python",
   "nbconvert_exporter": "python",
   "pygments_lexer": "ipython3",
   "version": "3.11.7"
  }
 },
 "nbformat": 4,
 "nbformat_minor": 5
}
