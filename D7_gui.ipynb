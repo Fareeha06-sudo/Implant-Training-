{
 "cells": [
  {
   "cell_type": "markdown",
   "id": "abd3d4b3-2fa0-401d-8118-57dd1b0ca810",
   "metadata": {},
   "source": [
    "# GUI"
   ]
  },
  {
   "cell_type": "code",
   "execution_count": 4,
   "id": "57f99d45-8a01-48cc-9e83-410ea4bc187d",
   "metadata": {},
   "outputs": [],
   "source": [
    "import tkinter as tk"
   ]
  },
  {
   "cell_type": "code",
   "execution_count": 14,
   "id": "7f23cf25-eb06-44d4-aa52-d8bc936f9b69",
   "metadata": {},
   "outputs": [],
   "source": [
    "top= tk.Tk()\n",
    "top.title('My Application')\n",
    "top.geometry('600x600')\n",
    "b1= tk.Button(top,text='Click me!!!', bg='pink').grid(column= 0, row= 1)\n",
    "#e1=tk.Entry(top).pack()\n",
    "#t1=tk.Text(top).pack()\n",
    "e1=tk.Entry(top).grid(column= 1, row= 2)\n",
    "t1=tk.Text(top).grid(column= 2, row= 1)\n",
    "l1= tk.Label(top, text='Welcome', font= ('Ariel Bold ', 50)).grid(column= 2, row= 2)\n",
    "top.mainloop()"
   ]
  },
  {
   "cell_type": "code",
   "execution_count": null,
   "id": "051599a2-53da-4702-bcbe-a03c56fed355",
   "metadata": {},
   "outputs": [],
   "source": []
  }
 ],
 "metadata": {
  "kernelspec": {
   "display_name": "Python 3 (ipykernel)",
   "language": "python",
   "name": "python3"
  },
  "language_info": {
   "codemirror_mode": {
    "name": "ipython",
    "version": 3
   },
   "file_extension": ".py",
   "mimetype": "text/x-python",
   "name": "python",
   "nbconvert_exporter": "python",
   "pygments_lexer": "ipython3",
   "version": "3.11.7"
  }
 },
 "nbformat": 4,
 "nbformat_minor": 5
}
