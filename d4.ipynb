{
 "cells": [
  {
   "cell_type": "markdown",
   "id": "320a6ba8-f242-4f6a-a76e-f856e9bf40db",
   "metadata": {},
   "source": [
    "### LIST"
   ]
  },
  {
   "cell_type": "code",
   "execution_count": 1,
   "id": "49d7bd5d-d527-42c4-aca0-02449914e6c4",
   "metadata": {},
   "outputs": [],
   "source": [
    "l= [11,12,13,14,15]"
   ]
  },
  {
   "cell_type": "code",
   "execution_count": 2,
   "id": "75266551-afd3-47e3-af18-f5ce3ca99b46",
   "metadata": {},
   "outputs": [
    {
     "name": "stdout",
     "output_type": "stream",
     "text": [
      "[11, 12, 13, 14, 15]\n"
     ]
    }
   ],
   "source": [
    "print(l)"
   ]
  },
  {
   "cell_type": "code",
   "execution_count": 3,
   "id": "aa66928b-f13b-469b-a75d-70492830be43",
   "metadata": {},
   "outputs": [
    {
     "data": {
      "text/plain": [
       "list"
      ]
     },
     "execution_count": 3,
     "metadata": {},
     "output_type": "execute_result"
    }
   ],
   "source": [
    "type(l)"
   ]
  },
  {
   "cell_type": "code",
   "execution_count": 4,
   "id": "7daed45b-25ef-4e9c-ab73-b9bd8f56067a",
   "metadata": {},
   "outputs": [],
   "source": [
    "l= [11,12,13,14,15,12]"
   ]
  },
  {
   "cell_type": "code",
   "execution_count": 5,
   "id": "054637de-e5c5-445b-b1ef-f55072f7e9f2",
   "metadata": {},
   "outputs": [
    {
     "name": "stdout",
     "output_type": "stream",
     "text": [
      "[11, 12, 13, 14, 15, 12]\n"
     ]
    }
   ],
   "source": [
    "print(l)"
   ]
  },
  {
   "cell_type": "code",
   "execution_count": 6,
   "id": "e4ea0438-6641-4f33-b888-6a4dfefdf674",
   "metadata": {},
   "outputs": [
    {
     "data": {
      "text/plain": [
       "[11, 12, 13, 14, 15, 12, 'Farii', False]"
      ]
     },
     "execution_count": 6,
     "metadata": {},
     "output_type": "execute_result"
    }
   ],
   "source": [
    "l= [11,12,13,14,15,12,'Farii', False]\n",
    "l"
   ]
  },
  {
   "cell_type": "code",
   "execution_count": 7,
   "id": "5aa14840-fc5d-43cf-a18c-bf34121673d9",
   "metadata": {},
   "outputs": [
    {
     "name": "stdout",
     "output_type": "stream",
     "text": [
      "[11, 12, 13, 14, 15, 12, 'Farii', False]\n"
     ]
    }
   ],
   "source": [
    "print(l)"
   ]
  },
  {
   "cell_type": "code",
   "execution_count": 8,
   "id": "d1f2b9a2-e2bd-4e0e-a8c7-1934dcc2aefe",
   "metadata": {},
   "outputs": [
    {
     "data": {
      "text/plain": [
       "13"
      ]
     },
     "execution_count": 8,
     "metadata": {},
     "output_type": "execute_result"
    }
   ],
   "source": [
    "l[2]"
   ]
  },
  {
   "cell_type": "code",
   "execution_count": 9,
   "id": "c493ed6f-4130-41b9-a2fc-656ab10c5efe",
   "metadata": {},
   "outputs": [
    {
     "data": {
      "text/plain": [
       "'Farii'"
      ]
     },
     "execution_count": 9,
     "metadata": {},
     "output_type": "execute_result"
    }
   ],
   "source": [
    "l[6]"
   ]
  },
  {
   "cell_type": "code",
   "execution_count": 11,
   "id": "ee5fa687-222e-49f1-9fed-75ded502432a",
   "metadata": {},
   "outputs": [],
   "source": [
    "# above was positive indexing below is negative indexing "
   ]
  },
  {
   "cell_type": "code",
   "execution_count": 12,
   "id": "7041574d-a8fe-466e-a94f-7e7b2f389005",
   "metadata": {},
   "outputs": [
    {
     "data": {
      "text/plain": [
       "'Farii'"
      ]
     },
     "execution_count": 12,
     "metadata": {},
     "output_type": "execute_result"
    }
   ],
   "source": [
    "l[-2]"
   ]
  },
  {
   "cell_type": "code",
   "execution_count": 14,
   "id": "fcdb5b51-ebba-4aab-8dc8-935a4736aa86",
   "metadata": {},
   "outputs": [
    {
     "data": {
      "text/plain": [
       "[11, 12, 13, 14, 15, 12, 'Farii', 'Changed']"
      ]
     },
     "execution_count": 14,
     "metadata": {},
     "output_type": "execute_result"
    }
   ],
   "source": [
    "# Chnaging value\n",
    "l[-1]= 'Changed'\n",
    "l"
   ]
  },
  {
   "cell_type": "code",
   "execution_count": 15,
   "id": "26ee07c5-44fb-4d6a-859b-bb1f39dec31b",
   "metadata": {},
   "outputs": [
    {
     "data": {
      "text/plain": [
       "[11, 12, 13, 14, 15, 12, 50, 'Changed']"
      ]
     },
     "execution_count": 15,
     "metadata": {},
     "output_type": "execute_result"
    }
   ],
   "source": [
    "l[-2]= 50\n",
    "l"
   ]
  },
  {
   "cell_type": "code",
   "execution_count": 16,
   "id": "63c09f9c-67d0-43c6-bdda-47faec2fd1bf",
   "metadata": {},
   "outputs": [
    {
     "data": {
      "text/plain": [
       "[13, 14, 15, 12]"
      ]
     },
     "execution_count": 16,
     "metadata": {},
     "output_type": "execute_result"
    }
   ],
   "source": [
    "# List Slicing \n",
    "l[2:6]"
   ]
  },
  {
   "cell_type": "code",
   "execution_count": 17,
   "id": "9969fc36-2702-4526-9df6-84fe27b4506b",
   "metadata": {},
   "outputs": [
    {
     "data": {
      "text/plain": [
       "[13, 14, 15, 12]"
      ]
     },
     "execution_count": 17,
     "metadata": {},
     "output_type": "execute_result"
    }
   ],
   "source": [
    "x=l[2:6]\n",
    "x"
   ]
  },
  {
   "cell_type": "code",
   "execution_count": 18,
   "id": "786d273d-2392-4b9b-be0e-9c27ba92e196",
   "metadata": {},
   "outputs": [
    {
     "data": {
      "text/plain": [
       "[13, 14, 15, 12, 50, 'Changed']"
      ]
     },
     "execution_count": 18,
     "metadata": {},
     "output_type": "execute_result"
    }
   ],
   "source": [
    "l[2:]"
   ]
  },
  {
   "cell_type": "code",
   "execution_count": 19,
   "id": "d1eb050d-ee98-4a47-9bb6-88a56ce5b504",
   "metadata": {},
   "outputs": [
    {
     "data": {
      "text/plain": [
       "[11, 12, 13, 14, 15]"
      ]
     },
     "execution_count": 19,
     "metadata": {},
     "output_type": "execute_result"
    }
   ],
   "source": [
    "l[:-3]"
   ]
  },
  {
   "cell_type": "code",
   "execution_count": 22,
   "id": "66e94be4-7c05-47f3-a600-44309cfd1a6b",
   "metadata": {},
   "outputs": [
    {
     "data": {
      "text/plain": [
       "[11, 13, 15, 50]"
      ]
     },
     "execution_count": 22,
     "metadata": {},
     "output_type": "execute_result"
    }
   ],
   "source": [
    "l[::2]"
   ]
  },
  {
   "cell_type": "code",
   "execution_count": 23,
   "id": "e6b7716a-0c99-470b-a458-5f556f8ed4c0",
   "metadata": {},
   "outputs": [],
   "source": [
    "l[1:4] = ['Far','Ham','rai']"
   ]
  },
  {
   "cell_type": "code",
   "execution_count": 24,
   "id": "181e978b-25c7-4c06-93a7-9ec39313da84",
   "metadata": {},
   "outputs": [
    {
     "data": {
      "text/plain": [
       "[11, 'Far', 'Ham', 'rai', 15, 12, 50, 'Changed']"
      ]
     },
     "execution_count": 24,
     "metadata": {},
     "output_type": "execute_result"
    }
   ],
   "source": [
    "l"
   ]
  },
  {
   "cell_type": "code",
   "execution_count": 25,
   "id": "d661ffd1-ccff-4f03-9146-bcc3965be8e8",
   "metadata": {},
   "outputs": [],
   "source": [
    "del l[-2]"
   ]
  },
  {
   "cell_type": "code",
   "execution_count": 26,
   "id": "1b8f6d25-f17e-44eb-b4e1-64e1063fd76c",
   "metadata": {},
   "outputs": [
    {
     "data": {
      "text/plain": [
       "[11, 'Far', 'Ham', 'rai', 15, 12, 'Changed']"
      ]
     },
     "execution_count": 26,
     "metadata": {},
     "output_type": "execute_result"
    }
   ],
   "source": [
    "l"
   ]
  },
  {
   "cell_type": "code",
   "execution_count": 2,
   "id": "4601cf5b-0bb0-47a0-93d4-dd3932a58522",
   "metadata": {},
   "outputs": [],
   "source": [
    "new2 = [34,32,36]"
   ]
  },
  {
   "cell_type": "code",
   "execution_count": 4,
   "id": "39ea22eb-7520-4e2b-8c09-087c73da597f",
   "metadata": {},
   "outputs": [],
   "source": [
    "del new2 "
   ]
  },
  {
   "cell_type": "code",
   "execution_count": 5,
   "id": "b0fca4b7-b49f-4c3f-aac3-6c689d965fd0",
   "metadata": {},
   "outputs": [
    {
     "ename": "NameError",
     "evalue": "name 'new' is not defined",
     "output_type": "error",
     "traceback": [
      "\u001b[1;31m---------------------------------------------------------------------------\u001b[0m",
      "\u001b[1;31mNameError\u001b[0m                                 Traceback (most recent call last)",
      "Cell \u001b[1;32mIn[5], line 1\u001b[0m\n\u001b[1;32m----> 1\u001b[0m new\n",
      "\u001b[1;31mNameError\u001b[0m: name 'new' is not defined"
     ]
    }
   ],
   "source": [
    "new"
   ]
  },
  {
   "cell_type": "markdown",
   "id": "0cb6c706-6916-4a94-b3aa-4f54af882bfc",
   "metadata": {},
   "source": [
    "### IN OPERATOR"
   ]
  },
  {
   "cell_type": "code",
   "execution_count": 27,
   "id": "13dc3e99-5870-41d8-bdb7-782ee9475c24",
   "metadata": {},
   "outputs": [
    {
     "data": {
      "text/plain": [
       "True"
      ]
     },
     "execution_count": 27,
     "metadata": {},
     "output_type": "execute_result"
    }
   ],
   "source": [
    "'Far' in l"
   ]
  },
  {
   "cell_type": "code",
   "execution_count": 28,
   "id": "429dabdd-f6bf-40e7-bc5b-eb910be6576d",
   "metadata": {},
   "outputs": [
    {
     "data": {
      "text/plain": [
       "False"
      ]
     },
     "execution_count": 28,
     "metadata": {},
     "output_type": "execute_result"
    }
   ],
   "source": [
    "51 in l"
   ]
  },
  {
   "cell_type": "code",
   "execution_count": 32,
   "id": "e6ffbe87-b485-4b09-bef1-451a544e3d46",
   "metadata": {},
   "outputs": [
    {
     "data": {
      "text/plain": [
       "[11,\n",
       " 'Far',\n",
       " 'Ham',\n",
       " 'rai',\n",
       " 15,\n",
       " 12,\n",
       " 'Changed',\n",
       " 11,\n",
       " 'Far',\n",
       " 'Ham',\n",
       " 'rai',\n",
       " 15,\n",
       " 12,\n",
       " 'Changed']"
      ]
     },
     "execution_count": 32,
     "metadata": {},
     "output_type": "execute_result"
    }
   ],
   "source": [
    "l*2"
   ]
  },
  {
   "cell_type": "code",
   "execution_count": 33,
   "id": "f5204bdb-1f6d-4f65-abf9-3018c6548054",
   "metadata": {},
   "outputs": [
    {
     "data": {
      "text/plain": [
       "[11, 'Far', 'Ham', 'rai', 15, 12, 'Changed']"
      ]
     },
     "execution_count": 33,
     "metadata": {},
     "output_type": "execute_result"
    }
   ],
   "source": [
    "l"
   ]
  },
  {
   "cell_type": "code",
   "execution_count": 34,
   "id": "fb301dea-1169-4b74-9279-6634a0392c20",
   "metadata": {},
   "outputs": [
    {
     "data": {
      "text/plain": [
       "[11, 'Far', 'Ham', 'rai', 15, 12, 'Changed', 45, 57]"
      ]
     },
     "execution_count": 34,
     "metadata": {},
     "output_type": "execute_result"
    }
   ],
   "source": [
    "l+ [45,57]"
   ]
  },
  {
   "cell_type": "code",
   "execution_count": 9,
   "id": "a0733f8b-c317-445b-a1c3-9012b2400168",
   "metadata": {},
   "outputs": [],
   "source": [
    "l1 = [23,24,35,38,52,36,89]"
   ]
  },
  {
   "cell_type": "markdown",
   "id": "8e7929e3-abff-40c2-9dc6-9f997578052c",
   "metadata": {},
   "source": [
    "### Iterating over list"
   ]
  },
  {
   "cell_type": "code",
   "execution_count": 10,
   "id": "43bdc259-e722-4a27-9794-b113f19e7232",
   "metadata": {},
   "outputs": [
    {
     "name": "stdout",
     "output_type": "stream",
     "text": [
      "529 576 1225 1444 2704 1296 7921 "
     ]
    }
   ],
   "source": [
    "for n in l1:\n",
    "    print (n*n , end =\" \")\n"
   ]
  },
  {
   "cell_type": "code",
   "execution_count": 45,
   "id": "b4d46f00-d760-49f0-b111-a6077c49919c",
   "metadata": {},
   "outputs": [
    {
     "name": "stdout",
     "output_type": "stream",
     "text": [
      "23 35 89 "
     ]
    }
   ],
   "source": [
    "for n in l1:\n",
    "    if n%2 !=0:\n",
    "        print(n , end = ' ')"
   ]
  },
  {
   "cell_type": "code",
   "execution_count": 50,
   "id": "e0a613f3-6cd4-4483-9ff5-5e9211a15d2d",
   "metadata": {},
   "outputs": [],
   "source": [
    " a =[n/2 for n in l1]"
   ]
  },
  {
   "cell_type": "code",
   "execution_count": 51,
   "id": "86889b29-c2de-49f3-ac59-6eea810efef9",
   "metadata": {},
   "outputs": [
    {
     "name": "stdout",
     "output_type": "stream",
     "text": [
      "[11.5, 12.0, 17.5, 19.0, 26.0, 18.0, 44.5]\n"
     ]
    }
   ],
   "source": [
    "print(a)"
   ]
  },
  {
   "cell_type": "code",
   "execution_count": 52,
   "id": "23a7ddc4-7640-45ff-ba3a-5c118dc6ef76",
   "metadata": {},
   "outputs": [
    {
     "data": {
      "text/plain": [
       "[529, 576, 1225, 1444, 2704, 1296, 7921]"
      ]
     },
     "execution_count": 52,
     "metadata": {},
     "output_type": "execute_result"
    }
   ],
   "source": [
    "[n*n for n in l1]"
   ]
  },
  {
   "cell_type": "code",
   "execution_count": 53,
   "id": "ac46c8c9-a51c-48ba-9da0-257448427c5f",
   "metadata": {},
   "outputs": [],
   "source": [
    "# filter "
   ]
  },
  {
   "cell_type": "code",
   "execution_count": 54,
   "id": "4b67d060-9692-47a5-9b65-43234d111668",
   "metadata": {},
   "outputs": [],
   "source": [
    "b=[ n for n in l1 if n>40]"
   ]
  },
  {
   "cell_type": "code",
   "execution_count": 55,
   "id": "ac7f8798-8a69-4b27-8836-08e9a54077cc",
   "metadata": {},
   "outputs": [
    {
     "data": {
      "text/plain": [
       "[52, 89]"
      ]
     },
     "execution_count": 55,
     "metadata": {},
     "output_type": "execute_result"
    }
   ],
   "source": [
    "b"
   ]
  },
  {
   "cell_type": "code",
   "execution_count": 56,
   "id": "822824ba-e40f-483e-90c7-2c49c2558957",
   "metadata": {},
   "outputs": [],
   "source": [
    "c= [ n for n in l1 if n%2 == 1]"
   ]
  },
  {
   "cell_type": "code",
   "execution_count": 57,
   "id": "aab088ec-d3d6-4c8c-8f78-3830dfd25852",
   "metadata": {},
   "outputs": [
    {
     "data": {
      "text/plain": [
       "[23, 35, 89]"
      ]
     },
     "execution_count": 57,
     "metadata": {},
     "output_type": "execute_result"
    }
   ],
   "source": [
    "c"
   ]
  },
  {
   "cell_type": "code",
   "execution_count": 58,
   "id": "8cc8aac7-dd73-4636-ad09-e58e0d43c5c6",
   "metadata": {},
   "outputs": [],
   "source": [
    "names = ['FAreeha', 'hamdya','raiyyu','swara','aaru']"
   ]
  },
  {
   "cell_type": "code",
   "execution_count": 60,
   "id": "b1a2f6cc-2c8f-4976-95a1-5609ac36b4b3",
   "metadata": {},
   "outputs": [
    {
     "data": {
      "text/plain": [
       "['FAreeha']"
      ]
     },
     "execution_count": 60,
     "metadata": {},
     "output_type": "execute_result"
    }
   ],
   "source": [
    "[n for n in names if n.startswith('F')]"
   ]
  },
  {
   "cell_type": "code",
   "execution_count": 61,
   "id": "cb0c983c-6e75-4eb8-b215-45dbd388fac5",
   "metadata": {},
   "outputs": [
    {
     "data": {
      "text/plain": [
       "7"
      ]
     },
     "execution_count": 61,
     "metadata": {},
     "output_type": "execute_result"
    }
   ],
   "source": [
    "len(l1)"
   ]
  },
  {
   "cell_type": "code",
   "execution_count": 62,
   "id": "8a2475d9-79ac-4043-85b5-b0bfde57b618",
   "metadata": {},
   "outputs": [
    {
     "data": {
      "text/plain": [
       "23"
      ]
     },
     "execution_count": 62,
     "metadata": {},
     "output_type": "execute_result"
    }
   ],
   "source": [
    "min(l1)"
   ]
  },
  {
   "cell_type": "code",
   "execution_count": 63,
   "id": "d42bab31-6754-406e-8c3d-018d1324ded3",
   "metadata": {},
   "outputs": [
    {
     "data": {
      "text/plain": [
       "89"
      ]
     },
     "execution_count": 63,
     "metadata": {},
     "output_type": "execute_result"
    }
   ],
   "source": [
    "max(l1)"
   ]
  },
  {
   "cell_type": "code",
   "execution_count": 64,
   "id": "5cf05152-a19d-4421-86cb-f80b07556508",
   "metadata": {},
   "outputs": [
    {
     "data": {
      "text/plain": [
       "297"
      ]
     },
     "execution_count": 64,
     "metadata": {},
     "output_type": "execute_result"
    }
   ],
   "source": [
    "sum(l1)"
   ]
  },
  {
   "cell_type": "code",
   "execution_count": 65,
   "id": "9ae2d31e-b5b2-4cdf-bfc2-a0a3ed94c18c",
   "metadata": {},
   "outputs": [
    {
     "data": {
      "text/plain": [
       "[23, 24, 35, 36, 38, 52, 89]"
      ]
     },
     "execution_count": 65,
     "metadata": {},
     "output_type": "execute_result"
    }
   ],
   "source": [
    "sorted(l1)"
   ]
  },
  {
   "cell_type": "code",
   "execution_count": 66,
   "id": "f0d81ea2-ed0d-4a2f-9485-19c0043af38f",
   "metadata": {},
   "outputs": [
    {
     "data": {
      "text/plain": [
       "[23, 24, 35, 38, 52, 36, 89]"
      ]
     },
     "execution_count": 66,
     "metadata": {},
     "output_type": "execute_result"
    }
   ],
   "source": [
    "l1"
   ]
  },
  {
   "cell_type": "code",
   "execution_count": 67,
   "id": "a9eec22d-e054-4bb4-8854-b4ebedc686f2",
   "metadata": {},
   "outputs": [
    {
     "data": {
      "text/plain": [
       "[89, 52, 38, 36, 35, 24, 23]"
      ]
     },
     "execution_count": 67,
     "metadata": {},
     "output_type": "execute_result"
    }
   ],
   "source": [
    "sorted(l1 , reverse = True)"
   ]
  },
  {
   "cell_type": "code",
   "execution_count": 68,
   "id": "6a3962bf-b3e1-4d75-b99e-efa5f9e4c507",
   "metadata": {},
   "outputs": [],
   "source": [
    "name='Fareeha'"
   ]
  },
  {
   "cell_type": "code",
   "execution_count": 69,
   "id": "0aac2964-a30a-498f-9000-96f460c855da",
   "metadata": {},
   "outputs": [
    {
     "data": {
      "text/plain": [
       "['F', 'a', 'r', 'e', 'e', 'h', 'a']"
      ]
     },
     "execution_count": 69,
     "metadata": {},
     "output_type": "execute_result"
    }
   ],
   "source": [
    "list(name)"
   ]
  },
  {
   "cell_type": "markdown",
   "id": "1f5711c8-f29c-4704-a191-8959b1d9462e",
   "metadata": {},
   "source": [
    "### List decomposition "
   ]
  },
  {
   "cell_type": "code",
   "execution_count": 11,
   "id": "bf7df658-436f-4a51-b452-8b468451822c",
   "metadata": {},
   "outputs": [],
   "source": [
    "lii=[12,23,34]"
   ]
  },
  {
   "cell_type": "code",
   "execution_count": 13,
   "id": "fd7f6f46-fcee-4374-8872-e488dd1a6845",
   "metadata": {},
   "outputs": [],
   "source": [
    "h,r,f= lii"
   ]
  },
  {
   "cell_type": "code",
   "execution_count": 14,
   "id": "5ed08331-1c54-4155-b6ac-8fbbda546641",
   "metadata": {},
   "outputs": [
    {
     "data": {
      "text/plain": [
       "12"
      ]
     },
     "execution_count": 14,
     "metadata": {},
     "output_type": "execute_result"
    }
   ],
   "source": [
    "h"
   ]
  },
  {
   "cell_type": "code",
   "execution_count": 17,
   "id": "e23b977d-cdb2-4978-b18b-ca777e049cbe",
   "metadata": {},
   "outputs": [
    {
     "data": {
      "text/plain": [
       "23"
      ]
     },
     "execution_count": 17,
     "metadata": {},
     "output_type": "execute_result"
    }
   ],
   "source": [
    "r"
   ]
  },
  {
   "cell_type": "code",
   "execution_count": 18,
   "id": "cc858bee-f88b-4fa6-8840-5a74630a4fa2",
   "metadata": {},
   "outputs": [
    {
     "data": {
      "text/plain": [
       "34"
      ]
     },
     "execution_count": 18,
     "metadata": {},
     "output_type": "execute_result"
    }
   ],
   "source": [
    "f"
   ]
  },
  {
   "cell_type": "markdown",
   "id": "5790f5f1-cfbe-4523-b842-1c01e3f53b10",
   "metadata": {},
   "source": [
    "### Methods on list "
   ]
  },
  {
   "cell_type": "code",
   "execution_count": 21,
   "id": "1acf4f40-6afb-4095-842e-3c902be7f10f",
   "metadata": {},
   "outputs": [],
   "source": [
    "li=[12,23,45,52,48,71,11,34]"
   ]
  },
  {
   "cell_type": "code",
   "execution_count": 22,
   "id": "a5f46d8b-f2d9-45db-a9fd-2cd03e4fb9a8",
   "metadata": {},
   "outputs": [
    {
     "data": {
      "text/plain": [
       "[12, 23, 45, 52, 48, 71, 11, 34]"
      ]
     },
     "execution_count": 22,
     "metadata": {},
     "output_type": "execute_result"
    }
   ],
   "source": [
    "li"
   ]
  },
  {
   "cell_type": "code",
   "execution_count": 73,
   "id": "dda9397d-acbb-4044-8d2c-c28329a2eb92",
   "metadata": {},
   "outputs": [],
   "source": [
    "li.append(100)"
   ]
  },
  {
   "cell_type": "code",
   "execution_count": 74,
   "id": "99bed419-0bf3-48e8-ab10-797e3d972304",
   "metadata": {},
   "outputs": [],
   "source": [
    "# append and extend"
   ]
  },
  {
   "cell_type": "code",
   "execution_count": 75,
   "id": "ddd4ea95-275f-47b5-b11b-c8204109ddd9",
   "metadata": {},
   "outputs": [],
   "source": [
    "x=[12,23,34]\n",
    "y=[12,23,34]"
   ]
  },
  {
   "cell_type": "code",
   "execution_count": 76,
   "id": "65013f22-0a62-457c-8467-a59db7205084",
   "metadata": {},
   "outputs": [],
   "source": [
    "x.append([11,33])\n",
    "y.extend([11,33])"
   ]
  },
  {
   "cell_type": "code",
   "execution_count": 77,
   "id": "90a17320-1b84-46d1-bf96-80e41bb09f6a",
   "metadata": {},
   "outputs": [
    {
     "name": "stdout",
     "output_type": "stream",
     "text": [
      "[12, 23, 34, [11, 33]]\n",
      "[12, 23, 34, 11, 33]\n"
     ]
    }
   ],
   "source": [
    "print(x)\n",
    "print(y)"
   ]
  },
  {
   "cell_type": "code",
   "execution_count": 78,
   "id": "2f6065b0-40c8-4190-8203-2cff47a0580a",
   "metadata": {},
   "outputs": [
    {
     "data": {
      "text/plain": [
       "[11, 33]"
      ]
     },
     "execution_count": 78,
     "metadata": {},
     "output_type": "execute_result"
    }
   ],
   "source": [
    "x[-1]"
   ]
  },
  {
   "cell_type": "code",
   "execution_count": 79,
   "id": "90b9508c-4746-4fc2-a72b-fcebb32356aa",
   "metadata": {},
   "outputs": [
    {
     "data": {
      "text/plain": [
       "33"
      ]
     },
     "execution_count": 79,
     "metadata": {},
     "output_type": "execute_result"
    }
   ],
   "source": [
    "x[-1][1]"
   ]
  },
  {
   "cell_type": "code",
   "execution_count": 80,
   "id": "87ecf70e-8202-46f2-9d10-0b0e8e1d68e6",
   "metadata": {},
   "outputs": [],
   "source": [
    "# insert data"
   ]
  },
  {
   "cell_type": "code",
   "execution_count": 81,
   "id": "8d9d2420-c8c4-4539-abe5-7669c2f306e2",
   "metadata": {},
   "outputs": [],
   "source": [
    "li . insert(1,50)"
   ]
  },
  {
   "cell_type": "code",
   "execution_count": 82,
   "id": "46abdb7c-96d5-4116-955d-665663ef3d27",
   "metadata": {},
   "outputs": [
    {
     "data": {
      "text/plain": [
       "[12, 50, 23, 45, 52, 48, 71, 11, 34, 100]"
      ]
     },
     "execution_count": 82,
     "metadata": {},
     "output_type": "execute_result"
    }
   ],
   "source": [
    "li"
   ]
  },
  {
   "cell_type": "code",
   "execution_count": 83,
   "id": "250c3ebd-5a82-4392-8ec9-e3b0f554f91f",
   "metadata": {},
   "outputs": [],
   "source": [
    "li.remove(50)"
   ]
  },
  {
   "cell_type": "code",
   "execution_count": 84,
   "id": "320e8916-bd19-4a11-9652-c8959acae881",
   "metadata": {},
   "outputs": [
    {
     "data": {
      "text/plain": [
       "[12, 23, 45, 52, 48, 71, 11, 34, 100]"
      ]
     },
     "execution_count": 84,
     "metadata": {},
     "output_type": "execute_result"
    }
   ],
   "source": [
    "li"
   ]
  },
  {
   "cell_type": "code",
   "execution_count": 85,
   "id": "5e017a50-d691-4899-a5a9-8f149ca70fb0",
   "metadata": {},
   "outputs": [
    {
     "data": {
      "text/plain": [
       "2"
      ]
     },
     "execution_count": 85,
     "metadata": {},
     "output_type": "execute_result"
    }
   ],
   "source": [
    "li.index(45)"
   ]
  },
  {
   "cell_type": "code",
   "execution_count": 86,
   "id": "fbad9506-18ce-40d8-aa85-68aef2f81d66",
   "metadata": {},
   "outputs": [
    {
     "data": {
      "text/plain": [
       "1"
      ]
     },
     "execution_count": 86,
     "metadata": {},
     "output_type": "execute_result"
    }
   ],
   "source": [
    "li.count(100)"
   ]
  },
  {
   "cell_type": "code",
   "execution_count": 87,
   "id": "15c26de6-1ecc-46c4-bc0d-35802a3e1315",
   "metadata": {},
   "outputs": [
    {
     "data": {
      "text/plain": [
       "100"
      ]
     },
     "execution_count": 87,
     "metadata": {},
     "output_type": "execute_result"
    }
   ],
   "source": [
    "li.pop()"
   ]
  },
  {
   "cell_type": "code",
   "execution_count": 88,
   "id": "63f6bad4-f5d5-4cd0-82fc-a5bb037f6f73",
   "metadata": {},
   "outputs": [
    {
     "data": {
      "text/plain": [
       "11"
      ]
     },
     "execution_count": 88,
     "metadata": {},
     "output_type": "execute_result"
    }
   ],
   "source": [
    "li.pop(-2)"
   ]
  },
  {
   "cell_type": "code",
   "execution_count": 92,
   "id": "e2dfa8e5-c47e-4820-b615-535f28a02284",
   "metadata": {},
   "outputs": [
    {
     "data": {
      "text/plain": [
       "[12, 23, 45, 52, 48, 71, 34]"
      ]
     },
     "execution_count": 92,
     "metadata": {},
     "output_type": "execute_result"
    }
   ],
   "source": [
    "li"
   ]
  },
  {
   "cell_type": "code",
   "execution_count": 93,
   "id": "29617d36-fb1d-4f80-a111-cded3a2699d8",
   "metadata": {},
   "outputs": [],
   "source": [
    "li.reverse()"
   ]
  },
  {
   "cell_type": "code",
   "execution_count": 95,
   "id": "5e9a65cf-f51c-45e3-ae8d-d93a712fa2d6",
   "metadata": {},
   "outputs": [
    {
     "data": {
      "text/plain": [
       "[34, 71, 48, 52, 45, 23, 12]"
      ]
     },
     "execution_count": 95,
     "metadata": {},
     "output_type": "execute_result"
    }
   ],
   "source": [
    "li"
   ]
  },
  {
   "cell_type": "code",
   "execution_count": 97,
   "id": "1beff6cd-75e8-445f-ab52-bc2758adeb46",
   "metadata": {},
   "outputs": [
    {
     "data": {
      "text/plain": [
       "[12, 23, 34, 45, 48, 52, 71]"
      ]
     },
     "execution_count": 97,
     "metadata": {},
     "output_type": "execute_result"
    }
   ],
   "source": [
    "li.sort\n",
    "li"
   ]
  },
  {
   "cell_type": "code",
   "execution_count": 24,
   "id": "d9b0da36-0b29-44c6-b51e-3c664d9a7fc6",
   "metadata": {},
   "outputs": [],
   "source": [
    "li.sort(reverse= True)"
   ]
  },
  {
   "cell_type": "code",
   "execution_count": 101,
   "id": "a51ab1c7-9e8a-4f30-8e33-af17416f6119",
   "metadata": {},
   "outputs": [
    {
     "name": "stdout",
     "output_type": "stream",
     "text": [
      "12 0\n",
      "23 1\n",
      "34 2\n",
      "45 3\n",
      "48 4\n",
      "52 5\n",
      "71 6\n"
     ]
    }
   ],
   "source": [
    "for n in li:\n",
    "    print (n , li.index(n))"
   ]
  },
  {
   "cell_type": "code",
   "execution_count": 103,
   "id": "2e9713cc-49b5-44c3-b65f-837d0c1dc958",
   "metadata": {},
   "outputs": [
    {
     "name": "stdout",
     "output_type": "stream",
     "text": [
      "12 0\n",
      "23 1\n",
      "34 2\n",
      "45 3\n",
      "48 4\n",
      "52 5\n",
      "71 6\n"
     ]
    }
   ],
   "source": [
    "for index, n in enumerate (li):\n",
    "    print (n , index)"
   ]
  },
  {
   "cell_type": "markdown",
   "id": "a5d6f8a1-6692-4524-948f-8b0d48a3a396",
   "metadata": {},
   "source": [
    "### Shallow copy"
   ]
  },
  {
   "cell_type": "code",
   "execution_count": 104,
   "id": "b0a2eb8a-d4b4-4831-a431-790a5d4e3076",
   "metadata": {},
   "outputs": [],
   "source": [
    "l2 = [34,45,56]"
   ]
  },
  {
   "cell_type": "code",
   "execution_count": 106,
   "id": "d54584d4-581c-406a-be98-886b2f2bbf41",
   "metadata": {},
   "outputs": [],
   "source": [
    "l3=l2"
   ]
  },
  {
   "cell_type": "code",
   "execution_count": 107,
   "id": "f97d98cb-48e8-4404-949b-7d3269ac2523",
   "metadata": {},
   "outputs": [
    {
     "data": {
      "text/plain": [
       "[34, 45, 56]"
      ]
     },
     "execution_count": 107,
     "metadata": {},
     "output_type": "execute_result"
    }
   ],
   "source": [
    "l3"
   ]
  },
  {
   "cell_type": "code",
   "execution_count": 108,
   "id": "9769c297-3b74-420f-b619-e3d428b7a411",
   "metadata": {},
   "outputs": [],
   "source": [
    "l2.append(50)"
   ]
  },
  {
   "cell_type": "code",
   "execution_count": 109,
   "id": "9cbb8425-e2ec-4822-b65b-2537f6b4c2ff",
   "metadata": {},
   "outputs": [
    {
     "data": {
      "text/plain": [
       "[34, 45, 56, 50]"
      ]
     },
     "execution_count": 109,
     "metadata": {},
     "output_type": "execute_result"
    }
   ],
   "source": [
    "l3"
   ]
  },
  {
   "cell_type": "code",
   "execution_count": 110,
   "id": "37f238ba-1e17-4c4d-af30-9aa88bff4ddb",
   "metadata": {},
   "outputs": [],
   "source": [
    "l4= l2.copy()"
   ]
  },
  {
   "cell_type": "code",
   "execution_count": 111,
   "id": "216ce78e-f08b-4e20-93b3-9a2e1df84d88",
   "metadata": {},
   "outputs": [
    {
     "data": {
      "text/plain": [
       "[34, 45, 56, 50]"
      ]
     },
     "execution_count": 111,
     "metadata": {},
     "output_type": "execute_result"
    }
   ],
   "source": [
    "l4"
   ]
  },
  {
   "cell_type": "code",
   "execution_count": 112,
   "id": "d647ca43-035a-4c41-8cbb-32852ecd9031",
   "metadata": {},
   "outputs": [],
   "source": [
    "l2.append(100)"
   ]
  },
  {
   "cell_type": "code",
   "execution_count": 113,
   "id": "bb5dd321-8d72-4f3b-be4f-49ae422b0638",
   "metadata": {},
   "outputs": [
    {
     "data": {
      "text/plain": [
       "[34, 45, 56, 50, 100]"
      ]
     },
     "execution_count": 113,
     "metadata": {},
     "output_type": "execute_result"
    }
   ],
   "source": [
    "l2"
   ]
  },
  {
   "cell_type": "code",
   "execution_count": 114,
   "id": "58a92f8e-fb21-4186-a87a-10b50d3f011f",
   "metadata": {},
   "outputs": [
    {
     "data": {
      "text/plain": [
       "[34, 45, 56, 50, 100]"
      ]
     },
     "execution_count": 114,
     "metadata": {},
     "output_type": "execute_result"
    }
   ],
   "source": [
    "l3"
   ]
  },
  {
   "cell_type": "code",
   "execution_count": 115,
   "id": "fbf360b4-0e21-47fe-8b31-b51f5514ac68",
   "metadata": {},
   "outputs": [
    {
     "data": {
      "text/plain": [
       "[34, 45, 56, 50]"
      ]
     },
     "execution_count": 115,
     "metadata": {},
     "output_type": "execute_result"
    }
   ],
   "source": [
    "l4"
   ]
  },
  {
   "cell_type": "code",
   "execution_count": 116,
   "id": "5ef6101b-964c-42e3-adb7-3dc9f0083fa6",
   "metadata": {},
   "outputs": [],
   "source": [
    "l2.append([11,22])"
   ]
  },
  {
   "cell_type": "code",
   "execution_count": 117,
   "id": "d716fa02-2007-48d2-8556-aee0c9d0ee2b",
   "metadata": {},
   "outputs": [],
   "source": [
    "l4=l2.copy()"
   ]
  },
  {
   "cell_type": "code",
   "execution_count": 120,
   "id": "6e74f7d0-9511-40e4-b274-c71486f79775",
   "metadata": {},
   "outputs": [],
   "source": [
    "l2.append(200)"
   ]
  },
  {
   "cell_type": "code",
   "execution_count": 119,
   "id": "fbcf6892-56fb-4062-8d7b-347e95cfffbb",
   "metadata": {},
   "outputs": [
    {
     "data": {
      "text/plain": [
       "[34, 45, 56, 50, 100, [11, 22]]"
      ]
     },
     "execution_count": 119,
     "metadata": {},
     "output_type": "execute_result"
    }
   ],
   "source": [
    "l4"
   ]
  },
  {
   "cell_type": "code",
   "execution_count": 127,
   "id": "962cf1b8-29ec-491d-b584-4ee84659c6d3",
   "metadata": {},
   "outputs": [
    {
     "data": {
      "text/plain": [
       "[34, 45, 56, 50, 100, [11, 22], 200, 200]"
      ]
     },
     "execution_count": 127,
     "metadata": {},
     "output_type": "execute_result"
    }
   ],
   "source": [
    "l2"
   ]
  },
  {
   "cell_type": "code",
   "execution_count": 128,
   "id": "7ade519e-c7ee-4597-b1f1-d19510627335",
   "metadata": {},
   "outputs": [],
   "source": [
    "l2[-3].append(33)"
   ]
  },
  {
   "cell_type": "code",
   "execution_count": 129,
   "id": "9e7fe9f9-2ecc-4cad-b5d6-9a0f1f72586f",
   "metadata": {},
   "outputs": [
    {
     "data": {
      "text/plain": [
       "[34, 45, 56, 50, 100, [11, 22, 33]]"
      ]
     },
     "execution_count": 129,
     "metadata": {},
     "output_type": "execute_result"
    }
   ],
   "source": [
    "l4"
   ]
  },
  {
   "cell_type": "markdown",
   "id": "47fb658f-b894-4afc-b4b9-52ffd0c38b61",
   "metadata": {},
   "source": [
    "### Tuple"
   ]
  },
  {
   "cell_type": "code",
   "execution_count": 32,
   "id": "7ccc5a23-cd6a-4895-a3c8-cbce93b600cb",
   "metadata": {},
   "outputs": [],
   "source": [
    "t= (12,23,34,36,57)"
   ]
  },
  {
   "cell_type": "code",
   "execution_count": 33,
   "id": "9e7f4a5f-efa8-4131-8b2e-858e11bb7d2a",
   "metadata": {},
   "outputs": [
    {
     "data": {
      "text/plain": [
       "(12, 23, 34, 36, 57)"
      ]
     },
     "execution_count": 33,
     "metadata": {},
     "output_type": "execute_result"
    }
   ],
   "source": [
    "t"
   ]
  },
  {
   "cell_type": "code",
   "execution_count": 34,
   "id": "b60d1a30-04dc-4310-a05f-54b80fb500b8",
   "metadata": {},
   "outputs": [
    {
     "data": {
      "text/plain": [
       "tuple"
      ]
     },
     "execution_count": 34,
     "metadata": {},
     "output_type": "execute_result"
    }
   ],
   "source": [
    "type(t)"
   ]
  },
  {
   "cell_type": "code",
   "execution_count": 36,
   "id": "d6660af9-2923-410a-9238-756602a18afd",
   "metadata": {},
   "outputs": [],
   "source": [
    "t1=(50,11,'Fari')"
   ]
  },
  {
   "cell_type": "code",
   "execution_count": 37,
   "id": "6ceefaf7-a6e3-40a4-9f8f-ac6da4b4106c",
   "metadata": {},
   "outputs": [
    {
     "data": {
      "text/plain": [
       "(50, 11, 'Fari')"
      ]
     },
     "execution_count": 37,
     "metadata": {},
     "output_type": "execute_result"
    }
   ],
   "source": [
    "t1"
   ]
  },
  {
   "cell_type": "code",
   "execution_count": 38,
   "id": "cdc9fe18-a18a-4784-8422-e3f6c975a5c5",
   "metadata": {},
   "outputs": [
    {
     "data": {
      "text/plain": [
       "34"
      ]
     },
     "execution_count": 38,
     "metadata": {},
     "output_type": "execute_result"
    }
   ],
   "source": [
    "t[2]"
   ]
  },
  {
   "cell_type": "code",
   "execution_count": 39,
   "id": "d9294684-9d97-49f3-b03b-85e578e66230",
   "metadata": {},
   "outputs": [
    {
     "ename": "TypeError",
     "evalue": "'tuple' object does not support item assignment",
     "output_type": "error",
     "traceback": [
      "\u001b[1;31m---------------------------------------------------------------------------\u001b[0m",
      "\u001b[1;31mTypeError\u001b[0m                                 Traceback (most recent call last)",
      "Cell \u001b[1;32mIn[39], line 1\u001b[0m\n\u001b[1;32m----> 1\u001b[0m t[\u001b[38;5;241m1\u001b[39m] \u001b[38;5;241m=\u001b[39m \u001b[38;5;241m23\u001b[39m\n",
      "\u001b[1;31mTypeError\u001b[0m: 'tuple' object does not support item assignment"
     ]
    }
   ],
   "source": [
    "t[1] = 23"
   ]
  },
  {
   "cell_type": "code",
   "execution_count": 40,
   "id": "d9a91d2b-1ee4-43ac-bf13-3bbfebdb5a13",
   "metadata": {},
   "outputs": [],
   "source": [
    "m= list(t1)"
   ]
  },
  {
   "cell_type": "code",
   "execution_count": 41,
   "id": "ac0ff8bd-cf63-4cd2-9b92-639e388ce074",
   "metadata": {},
   "outputs": [
    {
     "data": {
      "text/plain": [
       "[50, 11, 'Fari']"
      ]
     },
     "execution_count": 41,
     "metadata": {},
     "output_type": "execute_result"
    }
   ],
   "source": [
    "m"
   ]
  },
  {
   "cell_type": "code",
   "execution_count": 42,
   "id": "5bfa9b0f-02dd-462b-ba86-6ff67904f028",
   "metadata": {},
   "outputs": [],
   "source": [
    "ll= tuple(m)"
   ]
  },
  {
   "cell_type": "code",
   "execution_count": 43,
   "id": "68636763-9e6d-4a33-9087-cff9d7d27370",
   "metadata": {},
   "outputs": [
    {
     "data": {
      "text/plain": [
       "(50, 11, 'Fari')"
      ]
     },
     "execution_count": 43,
     "metadata": {},
     "output_type": "execute_result"
    }
   ],
   "source": [
    "ll"
   ]
  },
  {
   "cell_type": "code",
   "execution_count": 1,
   "id": "593a5b39-9a07-40ef-b7fc-f81866b6bf9d",
   "metadata": {},
   "outputs": [
    {
     "name": "stdout",
     "output_type": "stream",
     "text": [
      "Help on class list in module builtins:\n",
      "\n",
      "class list(object)\n",
      " |  list(iterable=(), /)\n",
      " |  \n",
      " |  Built-in mutable sequence.\n",
      " |  \n",
      " |  If no argument is given, the constructor creates a new empty list.\n",
      " |  The argument must be an iterable if specified.\n",
      " |  \n",
      " |  Methods defined here:\n",
      " |  \n",
      " |  __add__(self, value, /)\n",
      " |      Return self+value.\n",
      " |  \n",
      " |  __contains__(self, key, /)\n",
      " |      Return key in self.\n",
      " |  \n",
      " |  __delitem__(self, key, /)\n",
      " |      Delete self[key].\n",
      " |  \n",
      " |  __eq__(self, value, /)\n",
      " |      Return self==value.\n",
      " |  \n",
      " |  __ge__(self, value, /)\n",
      " |      Return self>=value.\n",
      " |  \n",
      " |  __getattribute__(self, name, /)\n",
      " |      Return getattr(self, name).\n",
      " |  \n",
      " |  __getitem__(...)\n",
      " |      x.__getitem__(y) <==> x[y]\n",
      " |  \n",
      " |  __gt__(self, value, /)\n",
      " |      Return self>value.\n",
      " |  \n",
      " |  __iadd__(self, value, /)\n",
      " |      Implement self+=value.\n",
      " |  \n",
      " |  __imul__(self, value, /)\n",
      " |      Implement self*=value.\n",
      " |  \n",
      " |  __init__(self, /, *args, **kwargs)\n",
      " |      Initialize self.  See help(type(self)) for accurate signature.\n",
      " |  \n",
      " |  __iter__(self, /)\n",
      " |      Implement iter(self).\n",
      " |  \n",
      " |  __le__(self, value, /)\n",
      " |      Return self<=value.\n",
      " |  \n",
      " |  __len__(self, /)\n",
      " |      Return len(self).\n",
      " |  \n",
      " |  __lt__(self, value, /)\n",
      " |      Return self<value.\n",
      " |  \n",
      " |  __mul__(self, value, /)\n",
      " |      Return self*value.\n",
      " |  \n",
      " |  __ne__(self, value, /)\n",
      " |      Return self!=value.\n",
      " |  \n",
      " |  __repr__(self, /)\n",
      " |      Return repr(self).\n",
      " |  \n",
      " |  __reversed__(self, /)\n",
      " |      Return a reverse iterator over the list.\n",
      " |  \n",
      " |  __rmul__(self, value, /)\n",
      " |      Return value*self.\n",
      " |  \n",
      " |  __setitem__(self, key, value, /)\n",
      " |      Set self[key] to value.\n",
      " |  \n",
      " |  __sizeof__(self, /)\n",
      " |      Return the size of the list in memory, in bytes.\n",
      " |  \n",
      " |  append(self, object, /)\n",
      " |      Append object to the end of the list.\n",
      " |  \n",
      " |  clear(self, /)\n",
      " |      Remove all items from list.\n",
      " |  \n",
      " |  copy(self, /)\n",
      " |      Return a shallow copy of the list.\n",
      " |  \n",
      " |  count(self, value, /)\n",
      " |      Return number of occurrences of value.\n",
      " |  \n",
      " |  extend(self, iterable, /)\n",
      " |      Extend list by appending elements from the iterable.\n",
      " |  \n",
      " |  index(self, value, start=0, stop=9223372036854775807, /)\n",
      " |      Return first index of value.\n",
      " |      \n",
      " |      Raises ValueError if the value is not present.\n",
      " |  \n",
      " |  insert(self, index, object, /)\n",
      " |      Insert object before index.\n",
      " |  \n",
      " |  pop(self, index=-1, /)\n",
      " |      Remove and return item at index (default last).\n",
      " |      \n",
      " |      Raises IndexError if list is empty or index is out of range.\n",
      " |  \n",
      " |  remove(self, value, /)\n",
      " |      Remove first occurrence of value.\n",
      " |      \n",
      " |      Raises ValueError if the value is not present.\n",
      " |  \n",
      " |  reverse(self, /)\n",
      " |      Reverse *IN PLACE*.\n",
      " |  \n",
      " |  sort(self, /, *, key=None, reverse=False)\n",
      " |      Sort the list in ascending order and return None.\n",
      " |      \n",
      " |      The sort is in-place (i.e. the list itself is modified) and stable (i.e. the\n",
      " |      order of two equal elements is maintained).\n",
      " |      \n",
      " |      If a key function is given, apply it once to each list item and sort them,\n",
      " |      ascending or descending, according to their function values.\n",
      " |      \n",
      " |      The reverse flag can be set to sort in descending order.\n",
      " |  \n",
      " |  ----------------------------------------------------------------------\n",
      " |  Class methods defined here:\n",
      " |  \n",
      " |  __class_getitem__(...) from builtins.type\n",
      " |      See PEP 585\n",
      " |  \n",
      " |  ----------------------------------------------------------------------\n",
      " |  Static methods defined here:\n",
      " |  \n",
      " |  __new__(*args, **kwargs) from builtins.type\n",
      " |      Create and return a new object.  See help(type) for accurate signature.\n",
      " |  \n",
      " |  ----------------------------------------------------------------------\n",
      " |  Data and other attributes defined here:\n",
      " |  \n",
      " |  __hash__ = None\n",
      "\n"
     ]
    }
   ],
   "source": [
    "help(list)"
   ]
  },
  {
   "cell_type": "markdown",
   "id": "a59f8747-fa70-47cf-9841-b1be171fe684",
   "metadata": {},
   "source": [
    "### Set"
   ]
  },
  {
   "cell_type": "code",
   "execution_count": 45,
   "id": "4969c27c-fe1e-4b98-be71-19a5ae14899a",
   "metadata": {},
   "outputs": [],
   "source": [
    "s= {12,34,56,78,12}"
   ]
  },
  {
   "cell_type": "code",
   "execution_count": 46,
   "id": "a4f5bb8f-fe14-41b1-be8b-7d98070ee6b9",
   "metadata": {},
   "outputs": [
    {
     "data": {
      "text/plain": [
       "set"
      ]
     },
     "execution_count": 46,
     "metadata": {},
     "output_type": "execute_result"
    }
   ],
   "source": [
    "type(s)"
   ]
  },
  {
   "cell_type": "code",
   "execution_count": 47,
   "id": "66a56cab-e4b4-4739-87e8-793bbe77cceb",
   "metadata": {},
   "outputs": [
    {
     "data": {
      "text/plain": [
       "{12, 34, 56, 78}"
      ]
     },
     "execution_count": 47,
     "metadata": {},
     "output_type": "execute_result"
    }
   ],
   "source": [
    "s"
   ]
  },
  {
   "cell_type": "code",
   "execution_count": 48,
   "id": "cfc17b3c-a4fc-4f46-92b3-3d153426ab12",
   "metadata": {},
   "outputs": [
    {
     "ename": "TypeError",
     "evalue": "'set' object is not subscriptable",
     "output_type": "error",
     "traceback": [
      "\u001b[1;31m---------------------------------------------------------------------------\u001b[0m",
      "\u001b[1;31mTypeError\u001b[0m                                 Traceback (most recent call last)",
      "Cell \u001b[1;32mIn[48], line 1\u001b[0m\n\u001b[1;32m----> 1\u001b[0m s[\u001b[38;5;241m2\u001b[39m]\n",
      "\u001b[1;31mTypeError\u001b[0m: 'set' object is not subscriptable"
     ]
    }
   ],
   "source": [
    "s[2]"
   ]
  },
  {
   "cell_type": "code",
   "execution_count": 49,
   "id": "00e01bc1-d8b9-4760-8982-73c0097d6a03",
   "metadata": {},
   "outputs": [],
   "source": [
    "s.add(45)"
   ]
  },
  {
   "cell_type": "code",
   "execution_count": 50,
   "id": "53e61b73-0ada-486f-a3a2-2639aceac79f",
   "metadata": {},
   "outputs": [
    {
     "data": {
      "text/plain": [
       "{12, 34, 45, 56, 78}"
      ]
     },
     "execution_count": 50,
     "metadata": {},
     "output_type": "execute_result"
    }
   ],
   "source": [
    "s"
   ]
  },
  {
   "cell_type": "code",
   "execution_count": 51,
   "id": "a6a3d8ac-e73c-49ce-b7ab-1f429dc3c136",
   "metadata": {},
   "outputs": [],
   "source": [
    "s1=  frozenset(s)"
   ]
  },
  {
   "cell_type": "code",
   "execution_count": 52,
   "id": "123684df-55af-48f1-be98-9492fec0960d",
   "metadata": {},
   "outputs": [
    {
     "data": {
      "text/plain": [
       "frozenset({12, 34, 45, 56, 78})"
      ]
     },
     "execution_count": 52,
     "metadata": {},
     "output_type": "execute_result"
    }
   ],
   "source": [
    "s1"
   ]
  },
  {
   "cell_type": "markdown",
   "id": "18511dfb-1871-45d0-b0ef-eb8d7e5ade4a",
   "metadata": {},
   "source": [
    "### Dictionary"
   ]
  },
  {
   "cell_type": "code",
   "execution_count": 55,
   "id": "73fa7df5-b7cb-4971-a340-8a5a45206c17",
   "metadata": {},
   "outputs": [
    {
     "ename": "NameError",
     "evalue": "name 'Dictionary' is not defined",
     "output_type": "error",
     "traceback": [
      "\u001b[1;31m---------------------------------------------------------------------------\u001b[0m",
      "\u001b[1;31mNameError\u001b[0m                                 Traceback (most recent call last)",
      "Cell \u001b[1;32mIn[55], line 1\u001b[0m\n\u001b[1;32m----> 1\u001b[0m help(Dictionary)\n",
      "\u001b[1;31mNameError\u001b[0m: name 'Dictionary' is not defined"
     ]
    }
   ],
   "source": [
    "help(Dictionary)"
   ]
  },
  {
   "cell_type": "code",
   "execution_count": null,
   "id": "d10ef2e4-f864-4ac6-9bb5-8d224a3f7eb8",
   "metadata": {},
   "outputs": [],
   "source": []
  }
 ],
 "metadata": {
  "kernelspec": {
   "display_name": "Python 3 (ipykernel)",
   "language": "python",
   "name": "python3"
  },
  "language_info": {
   "codemirror_mode": {
    "name": "ipython",
    "version": 3
   },
   "file_extension": ".py",
   "mimetype": "text/x-python",
   "name": "python",
   "nbconvert_exporter": "python",
   "pygments_lexer": "ipython3",
   "version": "3.11.7"
  }
 },
 "nbformat": 4,
 "nbformat_minor": 5
}
