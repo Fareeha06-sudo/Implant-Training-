{
 "cells": [
  {
   "cell_type": "code",
   "execution_count": 1,
   "id": "fafc6054-e09a-4546-b568-b7f4037a65a6",
   "metadata": {},
   "outputs": [],
   "source": [
    "import tkinter as tk\n",
    "from tkinter import BooleanVar\n",
    "from tkinter import scrolledtext\n",
    "from tkinter.ttk import *\n",
    "from tkinter import messagebox"
   ]
  },
  {
   "cell_type": "code",
   "execution_count": 2,
   "id": "adfb9e16-770d-45a7-b48a-839bb7d71b05",
   "metadata": {},
   "outputs": [
    {
     "name": "stdout",
     "output_type": "stream",
     "text": [
      "Batsman :\n",
      "Average: 50.0\n",
      "Strikerate: 200.0\n",
      "Bowler:\n",
      "Average 35.0\n",
      "Economy RAte 5.833333333333333\n"
     ]
    }
   ],
   "source": [
    "# Question 1\n",
    "'''Create a package named ‘cricket’ which will contain modules named\n",
    "batsman and bowler. Create following functions in respective modules.\n",
    "Import the package and call all these functions in your program\n",
    "batsman: findaverage(runs,matches), strikerate(runs,balls)\n",
    "bowler: findavg(runs,wickets), economyrate(overs, runs)'''\n",
    "import batsman \n",
    "import bowler\n",
    "\n",
    "runs = 600\n",
    "matches = 12\n",
    "balls = 300\n",
    "print('Batsman :')\n",
    "print('Average:', batsman.findaverage(runs, matches))\n",
    "print('Strikerate:',batsman.strikerate(runs, balls))\n",
    "run = 350\n",
    "wickets = 10\n",
    "overs = 60\n",
    "print('Bowler:')\n",
    "print('Average',bowler.findavg(run, wickets))\n",
    "print('Economy RAte',bowler.economyrate(overs, run))"
   ]
  },
  {
   "cell_type": "code",
   "execution_count": 3,
   "id": "10ad7572-2ed7-4823-a936-3ab922471967",
   "metadata": {},
   "outputs": [
    {
     "name": "stdout",
     "output_type": "stream",
     "text": [
      "False\n",
      "True\n",
      "False\n",
      "False\n"
     ]
    }
   ],
   "source": [
    "#Question 2\n",
    "#Write a Python function to find whether the number if prime or not. def isPrime(num)\n",
    "\n",
    "def isPrime(num):\n",
    "    if num <=1:\n",
    "       return False\n",
    "    if num <=3:\n",
    "       return True\n",
    "    for i in range (2,int(num**2)+1):\n",
    "        if num % i==0:\n",
    "         return False\n",
    "\n",
    "print(isPrime(100))\n",
    "print(isPrime(3))\n",
    "print(isPrime(1))\n",
    "print(isPrime(7))"
   ]
  },
  {
   "cell_type": "code",
   "execution_count": 4,
   "id": "d3381dd1-02f0-465b-a858-8fcb8566b4a2",
   "metadata": {},
   "outputs": [
    {
     "name": "stdout",
     "output_type": "stream",
     "text": [
      "True\n",
      "False\n",
      "False\n",
      "True\n"
     ]
    }
   ],
   "source": [
    "# Question 3\n",
    "'''Write a function is_palindrome(string) that takes a string as input and returns\n",
    "True if the string reads the same backward as forward (e.g., \"racecar\" is a palindrome).'''\n",
    "\n",
    "def  is_palindrome(string):\n",
    "    string=string.lower()\n",
    "    return string== string[::-1]\n",
    "\n",
    "\n",
    "print(is_palindrome('racecar'))\n",
    "print(is_palindrome('Fareeha'))\n",
    "print(is_palindrome('Github'))\n",
    "print(is_palindrome('Wow'))"
   ]
  },
  {
   "cell_type": "code",
   "execution_count": 5,
   "id": "9b45138f-f437-4155-9197-6dc6b0a171b7",
   "metadata": {},
   "outputs": [
    {
     "name": "stdout",
     "output_type": "stream",
     "text": [
      "[18, 33, 50]\n",
      "['E', 'E', 'R', 'A', 'F']\n"
     ]
    }
   ],
   "source": [
    "#Question 4\n",
    "'''Write a function reverse_list(data) that takes a list as input and returns a new list\n",
    "with the elements in reverse order (e.g., reverse_list([1, 2, 3]) returns [3, 2, 1]).'''\n",
    "def reverse_list(data):\n",
    "    rev=data[::-1]\n",
    "    return rev\n",
    "\n",
    "print(reverse_list([50,33,18]))\n",
    "print(reverse_list(['F','A','R','E','E']))\n"
   ]
  },
  {
   "cell_type": "code",
   "execution_count": 6,
   "id": "b4d0dfa6-bed4-4a9c-84aa-ce14d637537e",
   "metadata": {},
   "outputs": [
    {
     "name": "stdout",
     "output_type": "stream",
     "text": [
      "Successfully wrote content to {'test.txt'}\n"
     ]
    }
   ],
   "source": [
    "#QUESTION 5\n",
    "'''Write a function write_file(filename, content) that takes a filename and\n",
    "content as input and writes the content to the specified file.'''\n",
    "def write_file(filename, content):\n",
    "    try:\n",
    "        with open(filename, 'w') as file:\n",
    "            file.write(content)\n",
    "        print(\"Successfully wrote content to\", {filename})\n",
    "    except IOError:\n",
    "        print(\"Error: Could not write to\", {filename})\n",
    "\n",
    "# Example usage:\n",
    "filename = \"test.txt\"\n",
    "content = \"\"\" Helloo This is a sample text.\n",
    "It will be written to a file.\n",
    "Goodbye!\"\"\"\n",
    "write_file(filename, content)\n"
   ]
  },
  {
   "cell_type": "code",
   "execution_count": 1,
   "id": "d6748928-000f-4987-805f-3b9215dc45c5",
   "metadata": {},
   "outputs": [
    {
     "name": "stdout",
     "output_type": "stream",
     "text": [
      "Successfully copied content from <_io.TextIOWrapper name='src.txt' mode='r' encoding='cp1252'> to <_io.TextIOWrapper name='des.txt' mode='w' encoding='cp1252'>\n"
     ]
    }
   ],
   "source": [
    "# Question 6\n",
    "'''Write a function copy_file(source_filename, destination_filename) that\n",
    "takes the source and destination filenames as input and copies the content of the source\n",
    "file to the destination file. Handle cases where the source file doesn't exist.'''\n",
    "def copy_file(source_file, destination_file):\n",
    "    try:\n",
    "        with open(source_file, 'r') as source_file:\n",
    "            content = source_file.read()\n",
    "       \n",
    "        with open(destination_file, 'w') as destination_file:\n",
    "            destination_file.write(content)\n",
    "       \n",
    "        print(f\"Successfully copied content from {source_file} to {destination_file}\")\n",
    "   \n",
    "    except FileNotFoundError:\n",
    "        print(f\"Error: Source file '{source_file}' not found.\")\n",
    "   \n",
    "    except IOError as e:\n",
    "        print(f\"Error: Unable to copy file. {e}\")\n",
    "        \n",
    "\n",
    "# Calling the function :\n",
    "source= \"src.txt\"\n",
    "destination= \"des.txt\"\n",
    "copy_file(source, destination)"
   ]
  },
  {
   "cell_type": "code",
   "execution_count": 2,
   "id": "a9bc87fd-19d6-4ccc-80f8-68c0be63298b",
   "metadata": {},
   "outputs": [
    {
     "name": "stdout",
     "output_type": "stream",
     "text": [
      "Dot Product of :\n",
      " [5 6 7] and [1 2 3] is: \n",
      " 38\n"
     ]
    }
   ],
   "source": [
    "# Question 7\n",
    "#Implement a function to calculate the dot product of two NumPy arrays.\n",
    "\n",
    "import numpy as np\n",
    "def dot_pr(arr1,arr2):\n",
    "    result=np.dot(arr1,arr2)\n",
    "    return result\n",
    "\n",
    "\n",
    "a1=np.array([5,6,7])\n",
    "a2=np.array([1,2,3])\n",
    "res = dot_pr(a1,a2)\n",
    "print('Dot Product of :\\n',a1,'and',a2,'is: \\n',res)"
   ]
  },
  {
   "cell_type": "code",
   "execution_count": null,
   "id": "209e9322-652f-4d1b-b23f-b899304ce7fb",
   "metadata": {},
   "outputs": [],
   "source": [
    "# Question 8\n",
    "'''Implement a GUI with a radio button selection for choosing a favorite color (e.g., red,\n",
    "green, blue). Change the background color of the window based on the selected radio\n",
    "button.'''\n",
    "def change_color():\n",
    "    color = selected_color.get()\n",
    "    if color == 1:\n",
    "        root.configure(background='red')\n",
    "    elif color == 2:\n",
    "        root.configure(background='green')\n",
    "    elif color == 3:\n",
    "        root.configure(background='blue')\n",
    "\n",
    "# Create the main window\n",
    "root = tk.Tk()\n",
    "root.title(\"Favorite Color Selector\")\n",
    "# Variable to store the selected color\n",
    "selected_color = tk.IntVar()\n",
    "\n",
    "# Function to change the color based on selection\n",
    "selected_color.trace_add('write', lambda *args: change_color())\n",
    "\n",
    "# Create radio buttons for color selection\n",
    "red_radio = tk.Radiobutton(root, text=\"Red\", variable=selected_color, value=1)\n",
    "green_radio = tk.Radiobutton(root, text=\"Green\", variable=selected_color, value=2)\n",
    "blue_radio = tk.Radiobutton(root, text=\"Blue\", variable=selected_color, value=3)\n",
    "\n",
    "# Place the radio buttons in the window\n",
    "red_radio.pack(pady=5)\n",
    "green_radio.pack(pady=5)\n",
    "blue_radio.pack(pady=5)\n",
    "# Start the main GUI loop\n",
    "root.mainloop()\n"
   ]
  },
  {
   "cell_type": "code",
   "execution_count": null,
   "id": "c33e8f8e-70d4-403c-b857-a7687920fe0a",
   "metadata": {},
   "outputs": [],
   "source": []
  }
 ],
 "metadata": {
  "kernelspec": {
   "display_name": "Python 3 (ipykernel)",
   "language": "python",
   "name": "python3"
  },
  "language_info": {
   "codemirror_mode": {
    "name": "ipython",
    "version": 3
   },
   "file_extension": ".py",
   "mimetype": "text/x-python",
   "name": "python",
   "nbconvert_exporter": "python",
   "pygments_lexer": "ipython3",
   "version": "3.11.7"
  }
 },
 "nbformat": 4,
 "nbformat_minor": 5
}
