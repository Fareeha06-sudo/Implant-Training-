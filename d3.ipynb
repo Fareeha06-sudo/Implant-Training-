{
 "cells": [
  {
   "cell_type": "code",
   "execution_count": 1,
   "id": "6c80d032-fcce-40c0-ab15-42241afd9eb0",
   "metadata": {},
   "outputs": [
    {
     "name": "stdout",
     "output_type": "stream",
     "text": [
      "Faree\n",
      "Faree\n",
      "Faree\n",
      "Faree\n",
      "Faree\n"
     ]
    }
   ],
   "source": [
    "count = 1\n",
    "while count<=5:\n",
    "    print('Faree')\n",
    "    count = count+1"
   ]
  },
  {
   "cell_type": "code",
   "execution_count": 2,
   "id": "18e0e35b-ca81-4666-86ba-febd893d1e01",
   "metadata": {},
   "outputs": [
    {
     "name": "stdout",
     "output_type": "stream",
     "text": [
      "5\n",
      "6\n",
      "7\n",
      "8\n",
      "9\n",
      "10\n",
      "11\n",
      "12\n",
      "13\n",
      "14\n",
      "15\n",
      "Task done \n"
     ]
    }
   ],
   "source": [
    "count= 5\n",
    "while count <= 15:\n",
    "    print (count)\n",
    "    count = count+1\n",
    "print('Task done ')    "
   ]
  },
  {
   "cell_type": "code",
   "execution_count": 3,
   "id": "2afa4345-694e-4444-a8db-6fc1e64eddff",
   "metadata": {},
   "outputs": [
    {
     "name": "stdout",
     "output_type": "stream",
     "text": [
      "Addition of 1 to 10 numbers : 55\n"
     ]
    }
   ],
   "source": [
    "count = 1\n",
    "res =0\n",
    "while count <=10:\n",
    "    res= res+ count\n",
    "    count += 1\n",
    "print ('Addition of 1 to 10 numbers :', res)    \n",
    "    "
   ]
  },
  {
   "cell_type": "code",
   "execution_count": 4,
   "id": "ae0b6823-d083-4b35-a183-35d16eea69cd",
   "metadata": {},
   "outputs": [
    {
     "name": "stdout",
     "output_type": "stream",
     "text": [
      "100\n"
     ]
    }
   ],
   "source": [
    "count =1 \n",
    "res = 0\n",
    "while count <=20:\n",
    "    if count%2==1:\n",
    "        res = res+ count \n",
    "    count +=1\n",
    "print (res)"
   ]
  },
  {
   "cell_type": "code",
   "execution_count": 5,
   "id": "ad552b08-2e13-4b84-ba22-9d91d198c12a",
   "metadata": {},
   "outputs": [
    {
     "name": "stdout",
     "output_type": "stream",
     "text": [
      "1\n"
     ]
    }
   ],
   "source": [
    "count = 5 \n",
    "res =1\n",
    "while count <= 1:\n",
    "  res = res* count \n",
    "  count-=1\n",
    "print(res)"
   ]
  },
  {
   "cell_type": "code",
   "execution_count": 6,
   "id": "1193e713-9aba-48c3-a463-beab7a1ea33a",
   "metadata": {},
   "outputs": [
    {
     "name": "stdin",
     "output_type": "stream",
     "text": [
      " Enter a number : 1234\n"
     ]
    },
    {
     "name": "stdout",
     "output_type": "stream",
     "text": [
      "4\n",
      "7\n",
      "9\n",
      "10\n",
      "Addition of digits in above number is : 10\n"
     ]
    }
   ],
   "source": [
    "n = int (input(' Enter a number :'))\n",
    "total = 0 \n",
    "\n",
    "while n > 0:\n",
    "        total += n % 10\n",
    "        n //= 10 \n",
    "        print(total)\n",
    "print ('Addition of digits in above number is :', total)"
   ]
  },
  {
   "cell_type": "code",
   "execution_count": 7,
   "id": "0c03c626-980f-4c71-b210-86de55e40473",
   "metadata": {},
   "outputs": [
    {
     "name": "stdout",
     "output_type": "stream",
     "text": [
      "12\n",
      "6.0\n",
      "34\n",
      "17.0\n",
      "56\n",
      "28.0\n",
      "78\n",
      "39.0\n",
      "2000.0\n",
      "1000.0\n",
      "4.0\n",
      "2.0\n"
     ]
    }
   ],
   "source": [
    "for n in 12,34,56,78,2.e3,4.00:\n",
    " print (n)\n",
    " print (n/2)   "
   ]
  },
  {
   "cell_type": "code",
   "execution_count": 8,
   "id": "52392fc2-2b72-45dd-a3dd-9736abee0da8",
   "metadata": {},
   "outputs": [
    {
     "name": "stdout",
     "output_type": "stream",
     "text": [
      "Addition of odd numbers from 1 to 20 : 100\n"
     ]
    }
   ],
   "source": [
    "sum= 0\n",
    "for n in range(1,20,2):\n",
    "    sum = sum+n\n",
    "print ('Addition of odd numbers from 1 to 20 :', sum )    \n",
    "  "
   ]
  },
  {
   "cell_type": "code",
   "execution_count": 9,
   "id": "1df8c00b-0caf-4607-a544-9d0ebcb50260",
   "metadata": {},
   "outputs": [
    {
     "name": "stdout",
     "output_type": "stream",
     "text": [
      "Farii\n",
      "Farii\n",
      "Farii\n",
      "Farii\n",
      "Farii\n",
      "Farii\n",
      "Farii\n",
      "Farii\n",
      "Farii\n",
      "Farii\n"
     ]
    }
   ],
   "source": [
    "for n in range (0,10):\n",
    "    print ('Farii')"
   ]
  },
  {
   "cell_type": "code",
   "execution_count": 10,
   "id": "3090719b-9d6d-46da-80b5-e1603ffa3211",
   "metadata": {},
   "outputs": [
    {
     "name": "stdout",
     "output_type": "stream",
     "text": [
      "Farii\n",
      "Swara\n"
     ]
    }
   ],
   "source": [
    "for n in 'Farii','Swara':\n",
    "    print (n)"
   ]
  },
  {
   "cell_type": "code",
   "execution_count": 11,
   "id": "56dae842-3195-4cd7-8ef9-81459cf2b932",
   "metadata": {},
   "outputs": [
    {
     "name": "stdin",
     "output_type": "stream",
     "text": [
      " Enter a number : 5\n"
     ]
    },
    {
     "name": "stdout",
     "output_type": "stream",
     "text": [
      "Factorial : 120\n"
     ]
    }
   ],
   "source": [
    "n=int (input(' Enter a number :'))\n",
    "result = 1\n",
    "for i in range(1, n + 1):\n",
    "        result *= i\n",
    "print ('Factorial :', result)        "
   ]
  },
  {
   "cell_type": "markdown",
   "id": "36d108c1-2168-4f75-9985-9ad2f8e71ac3",
   "metadata": {},
   "source": [
    "### Break "
   ]
  },
  {
   "cell_type": "code",
   "execution_count": 12,
   "id": "57a3eb83-f511-4b29-afb0-6362698bf7ea",
   "metadata": {},
   "outputs": [
    {
     "name": "stdout",
     "output_type": "stream",
     "text": [
      "5\n"
     ]
    }
   ],
   "source": [
    "for n in range (1,10):\n",
    "    if n == 5:\n",
    "        break\n",
    "print (n)"
   ]
  },
  {
   "cell_type": "code",
   "execution_count": 13,
   "id": "7fafbefc-a683-48f3-b7eb-f2955aa2270a",
   "metadata": {},
   "outputs": [
    {
     "name": "stdout",
     "output_type": "stream",
     "text": [
      "0\n",
      "1\n",
      "2\n",
      "3\n",
      "4\n",
      "5\n"
     ]
    }
   ],
   "source": [
    "count=0\n",
    "while count <10:\n",
    "    print (count)\n",
    "    if count == 5:\n",
    "        break\n",
    "    count+=1    "
   ]
  },
  {
   "cell_type": "markdown",
   "id": "b7c9a1c3-7686-43ea-a99c-a45582db8585",
   "metadata": {},
   "source": [
    "### Continue"
   ]
  },
  {
   "cell_type": "code",
   "execution_count": 14,
   "id": "3bde5975-3286-4de3-8097-58c0c7af6bfd",
   "metadata": {},
   "outputs": [
    {
     "name": "stdout",
     "output_type": "stream",
     "text": [
      "1\n",
      "2\n",
      "3\n",
      "4\n",
      "6\n",
      "7\n",
      "8\n",
      "9\n"
     ]
    }
   ],
   "source": [
    "for n in range (1,10):\n",
    "    if n == 5:\n",
    "        continue\n",
    "    print (n)"
   ]
  },
  {
   "cell_type": "code",
   "execution_count": 15,
   "id": "b2554fdb-2ee6-40ec-9067-728a4c6f05a9",
   "metadata": {},
   "outputs": [
    {
     "name": "stdout",
     "output_type": "stream",
     "text": [
      "1\n",
      "3\n",
      "5\n",
      "7\n",
      "9\n",
      "11\n"
     ]
    }
   ],
   "source": [
    "for n in range (1,13):\n",
    "    if n%2 == 0:\n",
    "        continue\n",
    "    print (n)"
   ]
  },
  {
   "cell_type": "code",
   "execution_count": 16,
   "id": "4dd67334-6359-4d05-8909-30affc1434d3",
   "metadata": {},
   "outputs": [
    {
     "name": "stdout",
     "output_type": "stream",
     "text": [
      "*\n",
      "**\n",
      "***\n"
     ]
    }
   ],
   "source": [
    "print ('*') \n",
    "print ('**')\n",
    "print ('***')"
   ]
  },
  {
   "cell_type": "code",
   "execution_count": 18,
   "id": "57edc6f9-b3e2-448e-9ed0-8c9ea1cb824b",
   "metadata": {},
   "outputs": [
    {
     "name": "stdout",
     "output_type": "stream",
     "text": [
      "*\n",
      "*\n",
      "*\n"
     ]
    }
   ],
   "source": [
    "i=1\n",
    "j=1\n",
    "while i<=3:\n",
    "  \n",
    "    while j<=i:\n",
    "        print ('*', end = '')\n",
    "        j=j+1\n",
    "    i=i+1\n",
    "    print ()\n",
    "   "
   ]
  },
  {
   "cell_type": "code",
   "execution_count": 20,
   "id": "dbc5215a-1bee-4082-92b2-8e386931b2d6",
   "metadata": {},
   "outputs": [
    {
     "name": "stdin",
     "output_type": "stream",
     "text": [
      " Enter number of rows: 5\n"
     ]
    },
    {
     "name": "stdout",
     "output_type": "stream",
     "text": [
      "*\n",
      "**\n",
      "***\n",
      "****\n",
      "*****\n"
     ]
    }
   ],
   "source": [
    "row =int (input(' Enter number of rows:'))\n",
    "for i in range (1,row +1):\n",
    "  for j in range(i):\n",
    "    print ('*',end = '')\n",
    "  print()"
   ]
  },
  {
   "cell_type": "code",
   "execution_count": null,
   "id": "d58602bc-7e58-482a-9f9e-827dea0b7fc5",
   "metadata": {},
   "outputs": [],
   "source": []
  }
 ],
 "metadata": {
  "kernelspec": {
   "display_name": "Python 3 (ipykernel)",
   "language": "python",
   "name": "python3"
  },
  "language_info": {
   "codemirror_mode": {
    "name": "ipython",
    "version": 3
   },
   "file_extension": ".py",
   "mimetype": "text/x-python",
   "name": "python",
   "nbconvert_exporter": "python",
   "pygments_lexer": "ipython3",
   "version": "3.11.7"
  }
 },
 "nbformat": 4,
 "nbformat_minor": 5
}
