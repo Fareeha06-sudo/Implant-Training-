{
 "cells": [
  {
   "cell_type": "code",
   "execution_count": 1,
   "id": "e6c93e67-f45a-4b89-b96e-73002c65b575",
   "metadata": {},
   "outputs": [],
   "source": [
    "class Employee():   # creayting class\n",
    "    pass"
   ]
  },
  {
   "cell_type": "code",
   "execution_count": 2,
   "id": "20b07560-677a-47f3-aac8-97c8aaef62e2",
   "metadata": {},
   "outputs": [],
   "source": [
    "emp1= Employee()  # creating instance of class\n",
    "emp2= Employee()"
   ]
  },
  {
   "cell_type": "code",
   "execution_count": 4,
   "id": "15cef50f-1911-4ef2-b7a7-e5cbc4ffaafa",
   "metadata": {},
   "outputs": [
    {
     "name": "stdout",
     "output_type": "stream",
     "text": [
      "<__main__.Employee object at 0x000002256AAE3B10>\n",
      "<__main__.Employee object at 0x000002256AAE2F90>\n"
     ]
    }
   ],
   "source": [
    "print(emp1)\n",
    "print(emp2)"
   ]
  },
  {
   "cell_type": "code",
   "execution_count": 5,
   "id": "abf370a3-9abb-4e3b-9e9c-c6eb617b745a",
   "metadata": {},
   "outputs": [],
   "source": [
    "# instance variables\n",
    "\n",
    "emp1.first='Fareeha'\n",
    "emp1.last='Modi'\n",
    "emp1.salary=30000\n",
    "\n",
    "emp2.first='Swarali'\n",
    "emp2.last='Lokhande'\n",
    "emp2.salary=35000\n"
   ]
  },
  {
   "cell_type": "code",
   "execution_count": 6,
   "id": "b71fbda5-f5a9-46dd-a1e9-3003cc364dc3",
   "metadata": {},
   "outputs": [
    {
     "name": "stdout",
     "output_type": "stream",
     "text": [
      "Modi\n"
     ]
    }
   ],
   "source": [
    "print(emp1.last)"
   ]
  },
  {
   "cell_type": "code",
   "execution_count": 7,
   "id": "6beea8ab-ab60-414e-bb4e-482d5cb8416b",
   "metadata": {},
   "outputs": [
    {
     "name": "stdout",
     "output_type": "stream",
     "text": [
      "35000\n"
     ]
    }
   ],
   "source": [
    "print(emp2.salary)"
   ]
  },
  {
   "cell_type": "code",
   "execution_count": 21,
   "id": "d644bd72-8a31-490d-baca-7c5bf690e19b",
   "metadata": {},
   "outputs": [],
   "source": [
    "class Employee(): \n",
    "    def __init__(self , first,last,salary):\n",
    "        self.first=first\n",
    "        self.last=last\n",
    "        self.salary=salary\n",
    "    def show(self):\n",
    "        print(self.first +'' + self.last+''+'OK')\n",
    "    "
   ]
  },
  {
   "cell_type": "code",
   "execution_count": 22,
   "id": "e8fb1e47-0b7b-41ab-973a-40fce4095584",
   "metadata": {},
   "outputs": [],
   "source": [
    "emp3=Employee('Aarya','Raul',20000)"
   ]
  },
  {
   "cell_type": "code",
   "execution_count": 23,
   "id": "0c29a5cc-2c3c-4a84-a5c0-4cd41651ae4e",
   "metadata": {},
   "outputs": [
    {
     "name": "stdout",
     "output_type": "stream",
     "text": [
      "Raul\n"
     ]
    }
   ],
   "source": [
    "print((emp3.last))"
   ]
  },
  {
   "cell_type": "code",
   "execution_count": 24,
   "id": "5295c92d-02b5-47d5-9e4a-9e40094b326f",
   "metadata": {},
   "outputs": [
    {
     "name": "stdout",
     "output_type": "stream",
     "text": [
      "AaryaRaulOK\n"
     ]
    }
   ],
   "source": [
    "emp3.show()"
   ]
  },
  {
   "cell_type": "markdown",
   "id": "42d8c4b9-7e49-4872-bc93-60bbf9bf40b7",
   "metadata": {},
   "source": [
    "## Encapculation "
   ]
  },
  {
   "cell_type": "code",
   "execution_count": 39,
   "id": "970dfe95-7a79-4e05-943f-f5437faedb8f",
   "metadata": {},
   "outputs": [],
   "source": [
    "class Employee1(): \n",
    "    def __init__(self , first,last,salary):\n",
    "        self.first=first\n",
    "        self.last=last\n",
    "        self.__salary=salary\n",
    "    def show(self):\n",
    "        print(self.first +'' + self.last+''+'OK')"
   ]
  },
  {
   "cell_type": "code",
   "execution_count": 40,
   "id": "ad232c1f-1fe9-4dc2-b49a-97e8fd4e10d4",
   "metadata": {},
   "outputs": [],
   "source": [
    "emp5=Employee1('Aarya','Raul',39000)\n",
    "emp6=Employee1('Raiyan','Modi',50000)"
   ]
  },
  {
   "cell_type": "code",
   "execution_count": 41,
   "id": "9d8dcd37-4fe5-41f6-a2f1-7393e84ee582",
   "metadata": {},
   "outputs": [
    {
     "ename": "AttributeError",
     "evalue": "'Employee1' object has no attribute 'salary'",
     "output_type": "error",
     "traceback": [
      "\u001b[1;31m---------------------------------------------------------------------------\u001b[0m",
      "\u001b[1;31mAttributeError\u001b[0m                            Traceback (most recent call last)",
      "Cell \u001b[1;32mIn[41], line 1\u001b[0m\n\u001b[1;32m----> 1\u001b[0m \u001b[38;5;28mprint\u001b[39m(emp5\u001b[38;5;241m.\u001b[39msalary)\n",
      "\u001b[1;31mAttributeError\u001b[0m: 'Employee1' object has no attribute 'salary'"
     ]
    }
   ],
   "source": [
    "print(emp5.salary)"
   ]
  },
  {
   "cell_type": "code",
   "execution_count": 42,
   "id": "ab7775fb-ef63-4915-8217-c13e3a8b717e",
   "metadata": {},
   "outputs": [
    {
     "name": "stdout",
     "output_type": "stream",
     "text": [
      "RaiyanModiOK\n",
      "None\n"
     ]
    }
   ],
   "source": [
    "print(emp6.show())"
   ]
  },
  {
   "cell_type": "markdown",
   "id": "2a91c847-36e8-43f7-9202-d27aac7db826",
   "metadata": {},
   "source": [
    "## Inheritance"
   ]
  },
  {
   "cell_type": "code",
   "execution_count": 43,
   "id": "33ebf884-9463-433e-b41c-69afed186a3c",
   "metadata": {},
   "outputs": [],
   "source": [
    "class Inherit1(): \n",
    "    def __init__(self , first,last,salary):\n",
    "        self.first=first\n",
    "        self.last=last\n",
    "        self.__salary=salary\n",
    "    def showw(self):\n",
    "        print(self.first +'' + self.last+''+'OK')"
   ]
  },
  {
   "cell_type": "code",
   "execution_count": 44,
   "id": "c0a033a7-215a-4c77-9d0f-00a4f49ed81f",
   "metadata": {},
   "outputs": [],
   "source": [
    "class Inherit2(Inherit1):\n",
    "    pass\n",
    "    "
   ]
  },
  {
   "cell_type": "code",
   "execution_count": 45,
   "id": "243f286d-ec84-4cda-b486-36bf96666f52",
   "metadata": {},
   "outputs": [],
   "source": [
    "eemp1= Inherit2('FFF','MMM',30000)"
   ]
  },
  {
   "cell_type": "code",
   "execution_count": null,
   "id": "3c120d9e-8def-4276-8e24-7eb5181c1d30",
   "metadata": {},
   "outputs": [],
   "source": []
  },
  {
   "cell_type": "code",
   "execution_count": null,
   "id": "a6e9f7c2-6088-441a-a25c-dd587990c9d2",
   "metadata": {},
   "outputs": [],
   "source": []
  },
  {
   "cell_type": "code",
   "execution_count": 70,
   "id": "709f4090-6a25-4f02-81a7-404e8ef2b4c9",
   "metadata": {},
   "outputs": [],
   "source": [
    "class Person():\n",
    "    def __init__(self , nm,age,ct):\n",
    "        self.name= nm\n",
    "        self.age= age\n",
    "        self.city= ct \n",
    "    def info(self):\n",
    "        print(self.name)\n",
    "        print(self.age)\n",
    "        print(self.city)      "
   ]
  },
  {
   "cell_type": "code",
   "execution_count": 71,
   "id": "05a8db45-d94b-46ee-8637-e05a8440f1e6",
   "metadata": {},
   "outputs": [],
   "source": [
    "p1= Person('Fareeha',18,'pune')"
   ]
  },
  {
   "cell_type": "code",
   "execution_count": 72,
   "id": "bb699188-879d-47ed-a7f9-5eff3fe929d3",
   "metadata": {},
   "outputs": [],
   "source": [
    "p2= Person('Afifa', 19,'Nagpur ')"
   ]
  },
  {
   "cell_type": "code",
   "execution_count": 73,
   "id": "a367d9da-aa23-40cd-a80b-4d4209100078",
   "metadata": {},
   "outputs": [
    {
     "name": "stdout",
     "output_type": "stream",
     "text": [
      "<__main__.Person object at 0x000002256B93CF50>\n"
     ]
    }
   ],
   "source": [
    "print(p1)"
   ]
  },
  {
   "cell_type": "code",
   "execution_count": 74,
   "id": "da1b7e89-e38a-4057-bd27-c8b26aa0c315",
   "metadata": {},
   "outputs": [
    {
     "name": "stdout",
     "output_type": "stream",
     "text": [
      "Fareeha\n"
     ]
    }
   ],
   "source": [
    "print(p1.name)"
   ]
  },
  {
   "cell_type": "code",
   "execution_count": 75,
   "id": "d603310b-dcd2-4d1a-a3d6-aef1aa932d53",
   "metadata": {},
   "outputs": [
    {
     "name": "stdout",
     "output_type": "stream",
     "text": [
      "pune\n"
     ]
    }
   ],
   "source": [
    "print(p1.city)"
   ]
  },
  {
   "cell_type": "code",
   "execution_count": 76,
   "id": "a2747169-26c9-4aa7-a42c-6ba4c2910053",
   "metadata": {},
   "outputs": [
    {
     "name": "stdout",
     "output_type": "stream",
     "text": [
      "Fareeha\n",
      "18\n",
      "pune\n",
      "None\n"
     ]
    }
   ],
   "source": [
    "print(p1.info())"
   ]
  },
  {
   "cell_type": "code",
   "execution_count": null,
   "id": "2b8f1d80-e8b4-406c-9a82-ff9cc86e8571",
   "metadata": {},
   "outputs": [],
   "source": []
  }
 ],
 "metadata": {
  "kernelspec": {
   "display_name": "Python 3 (ipykernel)",
   "language": "python",
   "name": "python3"
  },
  "language_info": {
   "codemirror_mode": {
    "name": "ipython",
    "version": 3
   },
   "file_extension": ".py",
   "mimetype": "text/x-python",
   "name": "python",
   "nbconvert_exporter": "python",
   "pygments_lexer": "ipython3",
   "version": "3.11.7"
  }
 },
 "nbformat": 4,
 "nbformat_minor": 5
}
