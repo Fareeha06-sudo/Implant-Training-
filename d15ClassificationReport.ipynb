{
 "cells": [
  {
   "cell_type": "code",
   "execution_count": 1,
   "id": "7918d9de-7fb4-4d32-9303-835133a72c8f",
   "metadata": {},
   "outputs": [],
   "source": [
    "import pandas as pd"
   ]
  },
  {
   "cell_type": "code",
   "execution_count": 3,
   "id": "40ed16b0-3478-4890-81c6-d155cfe9c0fa",
   "metadata": {},
   "outputs": [],
   "source": [
    "actual   =['c','c','nc','c','nc','nc','c','nc','nc']\n",
    "predicted=['c','nc','nc','c','c','nc','nc','c','nc']"
   ]
  },
  {
   "cell_type": "code",
   "execution_count": 6,
   "id": "3018b99a-ea28-486d-8cab-d5c372a66d5f",
   "metadata": {},
   "outputs": [],
   "source": [
    "tp=2\n",
    "tn=3\n",
    "fp=2\n",
    "fn=2"
   ]
  },
  {
   "cell_type": "code",
   "execution_count": 7,
   "id": "43f30d0e-3af7-45eb-9908-0f88271fed8f",
   "metadata": {},
   "outputs": [
    {
     "data": {
      "text/plain": [
       "0.5"
      ]
     },
     "execution_count": 7,
     "metadata": {},
     "output_type": "execute_result"
    }
   ],
   "source": [
    "# PRECISION \n",
    "precision = 2/4\n",
    "precision"
   ]
  },
  {
   "cell_type": "code",
   "execution_count": 8,
   "id": "b4cdef84-7718-4efa-9ed1-1fff315cdd06",
   "metadata": {},
   "outputs": [
    {
     "data": {
      "text/plain": [
       "0.5"
      ]
     },
     "execution_count": 8,
     "metadata": {},
     "output_type": "execute_result"
    }
   ],
   "source": [
    "#RECALL \n",
    "recall=2/4\n",
    "recall"
   ]
  },
  {
   "cell_type": "code",
   "execution_count": 11,
   "id": "1c1c5832-9dbc-4890-a1c2-301914e72755",
   "metadata": {},
   "outputs": [
    {
     "data": {
      "text/plain": [
       "0.5"
      ]
     },
     "execution_count": 11,
     "metadata": {},
     "output_type": "execute_result"
    }
   ],
   "source": [
    "#f1-score \n",
    "# harmonic mean btwn precision and call \n",
    "(2*precision*recall)/(precision+recall)"
   ]
  },
  {
   "cell_type": "code",
   "execution_count": null,
   "id": "a118e9b2-40ba-4d09-bfd6-a1c43b981ff1",
   "metadata": {},
   "outputs": [],
   "source": []
  }
 ],
 "metadata": {
  "kernelspec": {
   "display_name": "Python 3 (ipykernel)",
   "language": "python",
   "name": "python3"
  },
  "language_info": {
   "codemirror_mode": {
    "name": "ipython",
    "version": 3
   },
   "file_extension": ".py",
   "mimetype": "text/x-python",
   "name": "python",
   "nbconvert_exporter": "python",
   "pygments_lexer": "ipython3",
   "version": "3.11.7"
  }
 },
 "nbformat": 4,
 "nbformat_minor": 5
}
