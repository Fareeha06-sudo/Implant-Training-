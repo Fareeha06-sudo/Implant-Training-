{
 "cells": [
  {
   "cell_type": "code",
   "execution_count": 7,
   "id": "31473f87-cfda-4aa8-962f-0d29254b20c7",
   "metadata": {},
   "outputs": [],
   "source": [
    "f= open ('Demo.txt','r')"
   ]
  },
  {
   "cell_type": "code",
   "execution_count": 8,
   "id": "b15ed885-2c1f-4d8f-b5d3-4a5148752110",
   "metadata": {},
   "outputs": [
    {
     "ename": "TypeError",
     "evalue": "'str' object is not callable",
     "output_type": "error",
     "traceback": [
      "\u001b[1;31m---------------------------------------------------------------------------\u001b[0m",
      "\u001b[1;31mTypeError\u001b[0m                                 Traceback (most recent call last)",
      "Cell \u001b[1;32mIn[8], line 1\u001b[0m\n\u001b[1;32m----> 1\u001b[0m \u001b[38;5;28mprint\u001b[39m(f\u001b[38;5;241m.\u001b[39mname())\n",
      "\u001b[1;31mTypeError\u001b[0m: 'str' object is not callable"
     ]
    }
   ],
   "source": [
    "print(f.name())"
   ]
  },
  {
   "cell_type": "code",
   "execution_count": 9,
   "id": "2a988c7d-15e8-40c3-aa17-7c294d99db29",
   "metadata": {},
   "outputs": [
    {
     "name": "stdout",
     "output_type": "stream",
     "text": [
      " This is Text File\n",
      "\n"
     ]
    }
   ],
   "source": [
    "print(f.read())\n",
    "\n"
   ]
  },
  {
   "cell_type": "code",
   "execution_count": 10,
   "id": "423ab49c-cf41-4b1f-bc33-1f146b72ad5d",
   "metadata": {},
   "outputs": [
    {
     "name": "stdout",
     "output_type": "stream",
     "text": [
      "r\n"
     ]
    }
   ],
   "source": [
    "print(f.mode)"
   ]
  },
  {
   "cell_type": "code",
   "execution_count": 11,
   "id": "8fbe0139-3a8b-4d23-93c1-7e4b8c826686",
   "metadata": {},
   "outputs": [],
   "source": [
    "f.close()"
   ]
  },
  {
   "cell_type": "code",
   "execution_count": 12,
   "id": "fb60717e-6cd4-46cb-9f57-99b569982e00",
   "metadata": {},
   "outputs": [
    {
     "data": {
      "text/plain": [
       "<_io.TextIOWrapper name='Demo.txt' mode='r' encoding='cp1252'>"
      ]
     },
     "execution_count": 12,
     "metadata": {},
     "output_type": "execute_result"
    }
   ],
   "source": [
    "f"
   ]
  },
  {
   "cell_type": "code",
   "execution_count": 14,
   "id": "a9c3c0fc-2e55-4b38-a118-bdba11db0aef",
   "metadata": {},
   "outputs": [
    {
     "data": {
      "text/plain": [
       "True"
      ]
     },
     "execution_count": 14,
     "metadata": {},
     "output_type": "execute_result"
    }
   ],
   "source": [
    "f.closed"
   ]
  },
  {
   "cell_type": "code",
   "execution_count": 16,
   "id": "6c14a079-2f6a-44a4-ad76-099963cb011d",
   "metadata": {},
   "outputs": [
    {
     "name": "stdout",
     "output_type": "stream",
     "text": [
      " This is Text File\n",
      "Operations will be performed \n",
      "We will learn something new.\n"
     ]
    }
   ],
   "source": [
    "# open with context manager\n",
    "with open ('Demo.txt','r') as f:\n",
    "    content= f.read()\n",
    "    print(content)\n",
    "    \n",
    "    "
   ]
  },
  {
   "cell_type": "code",
   "execution_count": 17,
   "id": "74876d9a-7304-4539-9461-4828bfdaf17a",
   "metadata": {},
   "outputs": [
    {
     "name": "stdout",
     "output_type": "stream",
     "text": [
      "[' This is Text File\\n', 'Operations will be performed \\n', 'We will learn something new.']\n"
     ]
    }
   ],
   "source": [
    "with open ('Demo.txt','r') as f:\n",
    "    content= f.readlines()\n",
    "    print(content)"
   ]
  },
  {
   "cell_type": "code",
   "execution_count": 18,
   "id": "88be95b5-02cb-44b0-bbfe-1f1c74c86a39",
   "metadata": {},
   "outputs": [
    {
     "name": "stdout",
     "output_type": "stream",
     "text": [
      " This is Text File\n",
      "\n"
     ]
    }
   ],
   "source": [
    "with open ('Demo.txt','r') as f:\n",
    "    content= f.readline()\n",
    "    print(content)"
   ]
  },
  {
   "cell_type": "code",
   "execution_count": 20,
   "id": "9bff6bdf-d5a5-40cb-babd-d79b6a9ac351",
   "metadata": {},
   "outputs": [
    {
     "name": "stdout",
     "output_type": "stream",
     "text": [
      " This is Text File\n",
      " Operations will be performed \n",
      "\n"
     ]
    }
   ],
   "source": [
    "with open ('Demo.txt','r') as f:\n",
    "    content= f.readline()\n",
    "    print(content, end=' ')\n",
    "    content= f.readline()\n",
    "    print(content)"
   ]
  },
  {
   "cell_type": "code",
   "execution_count": 22,
   "id": "1f7f92db-84be-437c-ad84-1ffbaa2a983a",
   "metadata": {},
   "outputs": [
    {
     "name": "stdout",
     "output_type": "stream",
     "text": [
      " This is Text File\n",
      " Operations will be performed \n",
      " We will learn something new. "
     ]
    }
   ],
   "source": [
    "with open ('Demo.txt','r') as f:\n",
    "    for line in f:\n",
    "        print (line, end=' ')"
   ]
  },
  {
   "cell_type": "code",
   "execution_count": 23,
   "id": "c210492e-357c-42fd-a667-f0b81d80bf4a",
   "metadata": {},
   "outputs": [
    {
     "name": "stdout",
     "output_type": "stream",
     "text": [
      " Th\n"
     ]
    }
   ],
   "source": [
    "with open ('Demo.txt','r') as f:\n",
    "    content= f.read(3)\n",
    "    print(content)"
   ]
  },
  {
   "cell_type": "code",
   "execution_count": 24,
   "id": "565a9cb8-19c4-4a0d-8b42-b414d378184c",
   "metadata": {},
   "outputs": [
    {
     "name": "stdout",
     "output_type": "stream",
     "text": [
      " This* is T*ext F*ile\n",
      "O*perat*ions *will *be pe*rform*ed \n",
      "W*e wil*l lea*rn so*methi*ng ne*w.*"
     ]
    }
   ],
   "source": [
    "# while loop to read entire file.. 5 characters at a time\n",
    "with open ('Demo.txt','r') as f:\n",
    "    size= 5\n",
    "    content = f.read(size)\n",
    "    while len(content)>0:\n",
    "        print(content, end = '*')\n",
    "        content= f.read(size)"
   ]
  },
  {
   "cell_type": "code",
   "execution_count": 25,
   "id": "5bca1915-d8a1-4757-bf1e-fb66d4e23ed7",
   "metadata": {},
   "outputs": [
    {
     "name": "stdout",
     "output_type": "stream",
     "text": [
      " This\n",
      " This\n"
     ]
    }
   ],
   "source": [
    "with open ('Demo.txt','r') as f:\n",
    "    size=5\n",
    "    content= f.read(size)\n",
    "    print(content)\n",
    "\n",
    "    f.seek(0)# will start beginning\n",
    "    content=f.read(size)\n",
    "    print(content)"
   ]
  },
  {
   "cell_type": "code",
   "execution_count": 26,
   "id": "c6e29173-abbb-475b-8b1e-b0617d1328e3",
   "metadata": {},
   "outputs": [],
   "source": [
    "with open ('Write.txt','w') as w:\n",
    "    pass"
   ]
  },
  {
   "cell_type": "code",
   "execution_count": 27,
   "id": "c4c86306-1911-4464-b858-695dfa74f746",
   "metadata": {},
   "outputs": [],
   "source": [
    "with open ('Write.txt','w') as w:\n",
    "    w.write('This is second File' )"
   ]
  },
  {
   "cell_type": "code",
   "execution_count": null,
   "id": "169b7300-b3be-473f-9132-3d091170d8d8",
   "metadata": {},
   "outputs": [],
   "source": []
  },
  {
   "cell_type": "code",
   "execution_count": 32,
   "id": "b024c0d7-148e-41dd-ba43-0bf73f3350b5",
   "metadata": {},
   "outputs": [
    {
     "ename": "SyntaxError",
     "evalue": "(unicode error) 'unicodeescape' codec can't decode bytes in position 15-16: truncated \\UXXXXXXXX escape (2186152513.py, line 7)",
     "output_type": "error",
     "traceback": [
      "\u001b[1;36m  Cell \u001b[1;32mIn[32], line 7\u001b[1;36m\u001b[0m\n\u001b[1;33m    '''\u001b[0m\n\u001b[1;37m       ^\u001b[0m\n\u001b[1;31mSyntaxError\u001b[0m\u001b[1;31m:\u001b[0m (unicode error) 'unicodeescape' codec can't decode bytes in position 15-16: truncated \\UXXXXXXXX escape\n"
     ]
    }
   ],
   "source": [
    "'''\n",
    "with open (\"C:\\Users\\faree\\OneDrive\\Pictures\\Screenshots\\Screenshot 2024-06-09 233031.jpg\",\"rb\") as f:\n",
    "    with open ('wall_copy', 'wb' ) as w:\n",
    "        for line in f:\n",
    "            w.write(line)\n",
    "\n",
    "'''"
   ]
  },
  {
   "cell_type": "markdown",
   "id": "09cbbe67-3976-4e67-9bde-273ece9fad6a",
   "metadata": {},
   "source": [
    "# EXCEPTION HANDLING "
   ]
  },
  {
   "cell_type": "code",
   "execution_count": 34,
   "id": "528e146c-12e8-4325-9dda-7409c19e1295",
   "metadata": {},
   "outputs": [
    {
     "name": "stdout",
     "output_type": "stream",
     "text": [
      "File is absent here\n"
     ]
    }
   ],
   "source": [
    "try:\n",
    "    f= open('all.txt') \n",
    "except Exception : \n",
    "    print('File is absent here')\n",
    "    "
   ]
  },
  {
   "cell_type": "code",
   "execution_count": 35,
   "id": "d59053ff-0d6c-4a22-b2b7-2a677c21e367",
   "metadata": {},
   "outputs": [
    {
     "name": "stdout",
     "output_type": "stream",
     "text": [
      "File is absent here\n"
     ]
    }
   ],
   "source": [
    "try:\n",
    "    f= open('all.txt') \n",
    "    var= var1\n",
    "except Exception : \n",
    "    print('File is absent here')\n",
    "    "
   ]
  },
  {
   "cell_type": "code",
   "execution_count": 36,
   "id": "4da767b1-d864-45af-898d-3313d754f36b",
   "metadata": {},
   "outputs": [
    {
     "name": "stdout",
     "output_type": "stream",
     "text": [
      "File is absent here\n"
     ]
    }
   ],
   "source": [
    "try:\n",
    "    f= open('Write.txt') \n",
    "    var= var1\n",
    "except Exception : \n",
    "    print('File is absent here')\n",
    "    "
   ]
  },
  {
   "cell_type": "code",
   "execution_count": 37,
   "id": "ecc0e8d8-fb54-4901-9e7d-e1dc41eef5f9",
   "metadata": {},
   "outputs": [
    {
     "ename": "NameError",
     "evalue": "name 'var1' is not defined",
     "output_type": "error",
     "traceback": [
      "\u001b[1;31m---------------------------------------------------------------------------\u001b[0m",
      "\u001b[1;31mNameError\u001b[0m                                 Traceback (most recent call last)",
      "Cell \u001b[1;32mIn[37], line 3\u001b[0m\n\u001b[0;32m      1\u001b[0m \u001b[38;5;28;01mtry\u001b[39;00m:\n\u001b[0;32m      2\u001b[0m     f\u001b[38;5;241m=\u001b[39m \u001b[38;5;28mopen\u001b[39m(\u001b[38;5;124m'\u001b[39m\u001b[38;5;124mWrite.txt\u001b[39m\u001b[38;5;124m'\u001b[39m) \n\u001b[1;32m----> 3\u001b[0m     var\u001b[38;5;241m=\u001b[39m var1\n\u001b[0;32m      4\u001b[0m \u001b[38;5;28;01mexcept\u001b[39;00m \u001b[38;5;167;01mFileNotFoundError\u001b[39;00m : \n\u001b[0;32m      5\u001b[0m     \u001b[38;5;28mprint\u001b[39m(\u001b[38;5;124m'\u001b[39m\u001b[38;5;124mFile is absent here\u001b[39m\u001b[38;5;124m'\u001b[39m)\n",
      "\u001b[1;31mNameError\u001b[0m: name 'var1' is not defined"
     ]
    }
   ],
   "source": [
    "try:\n",
    "    f= open('Write.txt') \n",
    "    var= var1\n",
    "except FileNotFoundError : \n",
    "    print('File is absent here')"
   ]
  },
  {
   "cell_type": "code",
   "execution_count": 38,
   "id": "bdffcd4e-d447-4ffd-9dbd-d886587b6259",
   "metadata": {},
   "outputs": [
    {
     "name": "stdout",
     "output_type": "stream",
     "text": [
      "Improper declaration and no  initialization \n"
     ]
    }
   ],
   "source": [
    "try:\n",
    "    f= open('Write.txt') \n",
    "    var= var1\n",
    "except FileNotFoundError : \n",
    "    print('File is absent here')\n",
    "except Exception :\n",
    "    print('Improper declaration and no  initialization ')"
   ]
  },
  {
   "cell_type": "code",
   "execution_count": 39,
   "id": "f7b6c16f-e70f-4161-9d17-bbda69a49521",
   "metadata": {},
   "outputs": [
    {
     "name": "stdout",
     "output_type": "stream",
     "text": [
      "name 'var1' is not defined\n"
     ]
    }
   ],
   "source": [
    "try:\n",
    "    f= open('Write.txt') \n",
    "    var= var1\n",
    "except FileNotFoundError : \n",
    "    print('File is absent here')\n",
    "except Exception as e:\n",
    "    print(e)"
   ]
  },
  {
   "cell_type": "code",
   "execution_count": 40,
   "id": "5455cc80-51a7-404b-b4ce-5cd2fea9ce6f",
   "metadata": {},
   "outputs": [
    {
     "name": "stdout",
     "output_type": "stream",
     "text": [
      "Improper declaration and no  initialization \n"
     ]
    }
   ],
   "source": [
    "try:\n",
    "    f= open('Write.txt') \n",
    "    var= var1\n",
    "except FileNotFoundError : \n",
    "    print('File is absent here')\n",
    "except NameError :\n",
    "    print('Improper declaration and no  initialization ')"
   ]
  },
  {
   "cell_type": "code",
   "execution_count": 42,
   "id": "98511a57-16eb-4a30-84ef-207a745b1aac",
   "metadata": {},
   "outputs": [
    {
     "name": "stdout",
     "output_type": "stream",
     "text": [
      " This is Text File\n",
      "Operations will be performed \n",
      "We will learn something new.\n"
     ]
    }
   ],
   "source": [
    "try:\n",
    "    f= open('Demo.txt') \n",
    "\n",
    "except FileNotFoundError : \n",
    "    print('File is absent here')\n",
    "else :                          # will execute if error does not occur\n",
    "    print(f.read())\n",
    "    f.close()"
   ]
  },
  {
   "cell_type": "code",
   "execution_count": 43,
   "id": "f469d57e-280f-491a-944a-050df4e20660",
   "metadata": {},
   "outputs": [
    {
     "name": "stdout",
     "output_type": "stream",
     "text": [
      "File is absent here\n",
      "Msg from finally block\n"
     ]
    }
   ],
   "source": [
    "try:\n",
    "    f= open('Demo1.txt') \n",
    "\n",
    "except FileNotFoundError : \n",
    "    print('File is absent here')\n",
    "else :                          # will execute if error does not occur\n",
    "    print(f.read())\n",
    "    f.close()\n",
    "finally:\n",
    "    print('Msg from finally block')"
   ]
  },
  {
   "cell_type": "code",
   "execution_count": 44,
   "id": "53855dbf-0137-4af6-ba9a-91432ace520c",
   "metadata": {},
   "outputs": [
    {
     "name": "stdout",
     "output_type": "stream",
     "text": [
      " This is Text File\n",
      "Operations will be performed \n",
      "We will learn something new.\n",
      "Msg from finally block\n"
     ]
    }
   ],
   "source": [
    "try:\n",
    "    f= open('Demo.txt') \n",
    "\n",
    "except FileNotFoundError : \n",
    "    print('File is absent here')\n",
    "else :                          # will execute if error does not occur\n",
    "    print(f.read())\n",
    "    f.close()\n",
    "finally:\n",
    "    print('Msg from finally block')"
   ]
  },
  {
   "cell_type": "code",
   "execution_count": null,
   "id": "974a453f-7714-48f6-a951-0963407c10d3",
   "metadata": {},
   "outputs": [],
   "source": []
  }
 ],
 "metadata": {
  "kernelspec": {
   "display_name": "Python 3 (ipykernel)",
   "language": "python",
   "name": "python3"
  },
  "language_info": {
   "codemirror_mode": {
    "name": "ipython",
    "version": 3
   },
   "file_extension": ".py",
   "mimetype": "text/x-python",
   "name": "python",
   "nbconvert_exporter": "python",
   "pygments_lexer": "ipython3",
   "version": "3.11.7"
  }
 },
 "nbformat": 4,
 "nbformat_minor": 5
}
