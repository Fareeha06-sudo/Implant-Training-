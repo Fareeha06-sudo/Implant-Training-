{
 "cells": [
  {
   "cell_type": "code",
   "execution_count": 8,
   "id": "e29e87b4-351a-4dff-8d90-e40dd9d9c343",
   "metadata": {},
   "outputs": [
    {
     "name": "stdin",
     "output_type": "stream",
     "text": [
      "Enter number of days :  56\n"
     ]
    },
    {
     "name": "stdout",
     "output_type": "stream",
     "text": [
      "Years :  0 \n",
      "Weeks :  8 \n",
      "Days : 1\n"
     ]
    }
   ],
   "source": [
    "# Question 1 \n",
    "#Write a program to convert specified days into years, weeks and days. Take user input.\n",
    "\n",
    "d = int(input('Enter number of days : '))\n",
    "year= d// 365\n",
    "week=(d%  365 ) // 7\n",
    "da= (week % 7)\n",
    "print (\"Years : \", year , '\\nWeeks : ',week, '\\nDays :',da )"
   ]
  },
  {
   "cell_type": "code",
   "execution_count": 13,
   "id": "b7c9031d-b523-42e7-9ccc-ca1728ac8d71",
   "metadata": {},
   "outputs": [
    {
     "name": "stdin",
     "output_type": "stream",
     "text": [
      " Enter the salary of employee:  17000\n"
     ]
    },
    {
     "name": "stdout",
     "output_type": "stream",
     "text": [
      "Gross salary : 37400.0\n"
     ]
    }
   ],
   "source": [
    "# Question 2 \n",
    "'''\n",
    "Write a Python program to input basiPython salary of an employee and\n",
    "calculate its Gross salary according to following:\n",
    "Basic Salary <= 10000 : HRA = 20%, DA = 80%\n",
    "Basic Salary <= 20000 : HRA = 30%, DA = 90%\n",
    "Basic Salary > 20000 : HRA = 35%, DA = 95%\n",
    "'''\n",
    "\n",
    "basic_salary = float (input(' Enter the salary of employee: '))\n",
    "if basic_salary <= 10000:\n",
    "        hra = basic_salary * 0.20\n",
    "        da = basic_salary * 0.80\n",
    "elif basic_salary <= 20000:\n",
    "        hra = basic_salary * 0.30\n",
    "        da = basic_salary * 0.90\n",
    "else:\n",
    "        hra = basic_salary * 0.35\n",
    "        da = basic_salary * 0.95\n",
    "    \n",
    "gross_salary = basic_salary + hra + da\n",
    "print('Gross salary :',gross_salary)\n"
   ]
  },
  {
   "cell_type": "code",
   "execution_count": 14,
   "id": "3f139170-862e-4dab-a391-a484fce5a31b",
   "metadata": {},
   "outputs": [
    {
     "name": "stdin",
     "output_type": "stream",
     "text": [
      "Enter the electricity charges in units : 670\n"
     ]
    },
    {
     "name": "stdout",
     "output_type": "stream",
     "text": [
      " Your total bill is : 1000.35 rupees\n"
     ]
    }
   ],
   "source": [
    "# Question 3 \n",
    "'''\n",
    "Write a Python program to input electricity unit charges and calculate total electricity bill according to the given condition:\n",
    "For first 50 units Rs. 0.50/unit\n",
    "For next 100 units Rs. 0.75/unit\n",
    "For next 100 units Rs. 1.25/unit\n",
    "For unit above 250 Rs. 1.50/unit\n",
    "An additional surcharge of 17% is added to the bill\n",
    "'''\n",
    "\n",
    "eu= float(input(\"Enter the electricity charges in units :\"))\n",
    "if eu <= 50:\n",
    "        bill = eu * 0.50\n",
    "elif eu <= 150:\n",
    "        bill = (50 * 0.50) + ((eu - 50) * 0.75)\n",
    "elif eu <= 250:\n",
    "        bill = (50 * 0.50) + (100 * 0.75) + ((eu - 150) * 1.25)\n",
    "else:\n",
    "        bill = (50 * 0.50) + (100 * 0.75) + (100 * 1.25) + ((eu - 250) * 1.50)\n",
    "\n",
    "surc= bill* 0.17\n",
    "totbill= bill + surc\n",
    "print( ' Your total bill is :' , totbill, 'rupees' )"
   ]
  },
  {
   "cell_type": "code",
   "execution_count": 16,
   "id": "b09b83bf-b9cc-4be0-bd2f-cff021e15c8d",
   "metadata": {},
   "outputs": [
    {
     "name": "stdout",
     "output_type": "stream",
     "text": [
      "1 \n",
      "2 2 \n",
      "3 3 3 \n",
      "4 4 4 4 \n",
      "5 5 5 5 5 \n"
     ]
    }
   ],
   "source": [
    "# Question 4 \n",
    "'''\n",
    "Write a Python program to print the given number patterns.\n",
    "1\n",
    "2 2\n",
    "3 3 3\n",
    "4 4 4 4\n",
    "5 5 5 5 5\n",
    "'''\n",
    "\n",
    "row =5\n",
    "for i in range (1,row +1):\n",
    "  for j in range(i):\n",
    "    print (i,end = ' ')\n",
    "  print()"
   ]
  },
  {
   "cell_type": "code",
   "execution_count": 3,
   "id": "694ac448-57ac-4961-a14f-287e71336f09",
   "metadata": {},
   "outputs": [
    {
     "name": "stdin",
     "output_type": "stream",
     "text": [
      " Enter a number : 435\n"
     ]
    },
    {
     "name": "stdout",
     "output_type": "stream",
     "text": [
      "Multiplication  of digits in above number is : 60\n"
     ]
    }
   ],
   "source": [
    "# Question 5\n",
    "#Write a Python program to calculate product of digits of a number. Read value of n from user.\n",
    "\n",
    "n = int (input(' Enter a number :'))\n",
    "total = 1\n",
    "\n",
    "while n > 0:\n",
    "        total *= n % 10\n",
    "        n //= 10 \n",
    "    \n",
    "print ('Multiplication  of digits in above number is :', total)"
   ]
  },
  {
   "cell_type": "code",
   "execution_count": 8,
   "id": "d2742423-0423-4375-a9af-c0a943346cf6",
   "metadata": {},
   "outputs": [
    {
     "name": "stdout",
     "output_type": "stream",
     "text": [
      "[45, 67, 12, 'Hello', 23.45, 'World']\n",
      "False\n",
      "['World', 23.45, 'Hello', 12, 67, 45]\n",
      "[45, 67, 12, 23.45, 'World']\n",
      "[45, 67, 12, 23.45, 36, 'World']\n",
      "[45, 67, 12, 23.45, 36, 'World', [34, 'Pune']]\n"
     ]
    },
    {
     "data": {
      "text/plain": [
       "[34, 'Pune']"
      ]
     },
     "execution_count": 8,
     "metadata": {},
     "output_type": "execute_result"
    }
   ],
   "source": [
    "# Question 6 \n",
    "'''\n",
    "Create a list of elements like: x = [45, 67, 12, ‘Hello’, 23.45, ‘World’] and\n",
    "oerform following\n",
    "operations\n",
    "1. Extract only string values from this list.\n",
    "2. Create a new list with strings in upper case.\n",
    "3. Find the addition of integer values\n",
    "4. Check that the value 56 is present in it or not.\n",
    "5. Print the list in reverse order.\n",
    "6. Delete the string ‘Hello’ from it.\n",
    "7. Insert a new value of 36 at 5th position in list.\n",
    "8. Count total number of elements in list now.\n",
    "9. Extract the values from 2nd index to 5th index.\n",
    "10. Append [34, ‘Pune’] to this list.\n",
    "11. Delete the last element from list.\n",
    "'''\n",
    "\n",
    "\n",
    "x = [45, 67, 12, 'Hello', 23.45, 'World']\n",
    "print(x)\n",
    "a = 56 in x\n",
    "print(a)\n",
    "rev = x[::-1]\n",
    "print(rev)\n",
    "if 'Hello' in x :\n",
    "     x.remove('Hello')\n",
    "print(x)\n",
    "x. insert(4, 36)\n",
    "print(x)\n",
    "list= x[2:5]\n",
    "x.append([34,'Pune'])\n",
    "print(x)\n",
    "x.pop()"
   ]
  },
  {
   "cell_type": "code",
   "execution_count": 15,
   "id": "7c4d85eb-7ed4-4ab5-ad10-9aae3f0eca77",
   "metadata": {},
   "outputs": [
    {
     "name": "stdout",
     "output_type": "stream",
     "text": [
      "(32.45, 42.67, 26.0, 86.35, 69.07)\n",
      "(26.0, 32.45, 42.67, 69.07, 86.35)\n",
      "False\n"
     ]
    },
    {
     "data": {
      "text/plain": [
       "{26.0, 32.45, 42.67, 69.07, 86.35}"
      ]
     },
     "execution_count": 15,
     "metadata": {},
     "output_type": "execute_result"
    }
   ],
   "source": [
    "# Question 7 \n",
    "'''\n",
    "Create a tuple of elements with 5 float values in it and perform following\n",
    "operations.\n",
    "1. Print the data in sorted manner.\n",
    "2. Check to see that the element 50 is present in it.\n",
    "3. Convert this tuple in set.\n",
    "\n",
    "'''\n",
    "t = (32.45,42.67,26.00,86.35,69.07)\n",
    "print(t)\n",
    "a= list(t)\n",
    "a.sort()\n",
    "\n",
    "t= tuple(a)\n",
    "print(t) \n",
    "contains= 50 in a\n",
    "print(contains)\n",
    "\n",
    "#t.contains(50)\n",
    "a= set(t)\n",
    "a"
   ]
  },
  {
   "cell_type": "code",
   "execution_count": 44,
   "id": "b89ff130-809d-404d-8653-af8738f78d81",
   "metadata": {},
   "outputs": [
    {
     "name": "stdout",
     "output_type": "stream",
     "text": [
      "{'a': 'apple', 'b': 'ball', 'c': 'cat', 'd': 'doll', 'k': 'king'}\n",
      "{'a': 'apple', 'b': 'ball', 'c': 'cat', 'd': 'doll', 'k': 'king', 'z': 'ZEbra'}\n",
      "{'a': 'apple', 'b': 'ball', 'c': 'cat', 'd': 'dog ', 'k': 'king', 'z': 'ZEbra'}\n",
      "Length of dictionary :  6\n"
     ]
    }
   ],
   "source": [
    "# Question 8\n",
    "'''\n",
    "Create a dictionary of elements: {‘a’: ‘apple’, ‘b’: ‘ball’, ‘c’: ‘cat’, ‘d’: ‘doll’, ‘k’:‘king’} and perform following operations.\n",
    "1. Access the data at key ‘k’.\n",
    "2. Add a new values ‘z’: ‘zebra’\n",
    "3. Replace the contents of ‘d’ as ‘dog’\n",
    "4. Print all the values from this dictionary.\n",
    "5. Find the length of this dictionary.\n",
    "\n",
    "'''\n",
    "dic=  {'a': 'apple', 'b': 'ball', 'c': 'cat', 'd': 'doll', 'k':'king'} \n",
    "print(dic)\n",
    "dic['k']\n",
    "dic['z']= 'ZEbra'\n",
    "print(dic)\n",
    "dic['d']= 'dog '\n",
    "print(dic)\n",
    "print('Length of dictionary : ', len(dic))\n"
   ]
  },
  {
   "cell_type": "code",
   "execution_count": 42,
   "id": "662d1315-a572-4222-89cd-3e6b3068f00f",
   "metadata": {},
   "outputs": [
    {
     "name": "stdout",
     "output_type": "stream",
     "text": [
      "[23, 52, 37, 89, 17]\n",
      "SECOND LARGEST ELEMENT IN THE LIST IS :\n"
     ]
    },
    {
     "data": {
      "text/plain": [
       "52"
      ]
     },
     "execution_count": 42,
     "metadata": {},
     "output_type": "execute_result"
    }
   ],
   "source": [
    "# Question 9\n",
    "# Write a program to find the second largest element in a list.\n",
    "list1 = [23,52,37,89,17]\n",
    "print(list1)\n",
    "list1.sort(reverse = True)\n",
    "print('SECOND LARGEST ELEMENT IN THE LIST IS :')\n",
    "list1[1]"
   ]
  },
  {
   "cell_type": "code",
   "execution_count": 17,
   "id": "e4f17a91-e056-4528-aaca-9dccb31eea75",
   "metadata": {},
   "outputs": [
    {
     "name": "stdout",
     "output_type": "stream",
     "text": [
      "['silver', 'gold', 'iron', 'aluminium ', 'copper', ' brass', 'bronze']\n",
      "['silver', 'gold', 'iron', 'aluminium ', ' brass', 'bronze']\n"
     ]
    }
   ],
   "source": [
    "# Question 10\n",
    "'''\n",
    "This is a list of some metallic elements.\n",
    "metals = [ 'silver','gold', ... ]\n",
    "Make a new list that is almost identical to the metals list: the new contains the same items, in the same order, except that it does NOT\n",
    "contain the item 'copper'.\n",
    "'''\n",
    "metals = [ 'silver','gold', 'iron', 'aluminium ','copper',' brass', 'bronze' ]\n",
    "print(metals)\n",
    "metals1 = [ n for n in metals if n != 'copper'] \n",
    "print(metals1)"
   ]
  },
  {
   "cell_type": "code",
   "execution_count": null,
   "id": "bf863b98-b9ff-4b92-b0d0-8e16ed67c4bf",
   "metadata": {},
   "outputs": [],
   "source": []
  }
 ],
 "metadata": {
  "kernelspec": {
   "display_name": "Python 3 (ipykernel)",
   "language": "python",
   "name": "python3"
  },
  "language_info": {
   "codemirror_mode": {
    "name": "ipython",
    "version": 3
   },
   "file_extension": ".py",
   "mimetype": "text/x-python",
   "name": "python",
   "nbconvert_exporter": "python",
   "pygments_lexer": "ipython3",
   "version": "3.11.7"
  }
 },
 "nbformat": 4,
 "nbformat_minor": 5
}
