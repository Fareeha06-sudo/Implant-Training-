{
 "cells": [
  {
   "cell_type": "code",
   "execution_count": 1,
   "id": "0a9d4169-739d-43f1-8723-658a67d1f11c",
   "metadata": {},
   "outputs": [],
   "source": [
    "# giving an alias \n",
    "import math as m \n"
   ]
  },
  {
   "cell_type": "code",
   "execution_count": 2,
   "id": "284cdc83-0f08-4aa0-a246-5569b64f8593",
   "metadata": {},
   "outputs": [
    {
     "data": {
      "text/plain": [
       "2.0"
      ]
     },
     "execution_count": 2,
     "metadata": {},
     "output_type": "execute_result"
    }
   ],
   "source": [
    "m.sqrt(4)"
   ]
  },
  {
   "cell_type": "code",
   "execution_count": 3,
   "id": "f1566469-4ef2-4c37-a5db-102bb740b39f",
   "metadata": {},
   "outputs": [],
   "source": [
    "# Selective imports \n",
    "from math import sin,pi,sqrt"
   ]
  },
  {
   "cell_type": "code",
   "execution_count": 4,
   "id": "cf382790-7ab2-420f-9c46-615eead42b45",
   "metadata": {},
   "outputs": [
    {
     "data": {
      "text/plain": [
       "3.141592653589793"
      ]
     },
     "execution_count": 4,
     "metadata": {},
     "output_type": "execute_result"
    }
   ],
   "source": [
    "pi"
   ]
  },
  {
   "cell_type": "code",
   "execution_count": 6,
   "id": "c7c08695-518f-4300-9c84-beeead194f2d",
   "metadata": {},
   "outputs": [],
   "source": [
    "# import user define module\n",
    "#import modd\n",
    "#modd.dis"
   ]
  },
  {
   "cell_type": "code",
   "execution_count": 7,
   "id": "3dc9eca7-4f6c-4b3a-9612-edfebbc12112",
   "metadata": {},
   "outputs": [],
   "source": [
    "import modd"
   ]
  },
  {
   "cell_type": "code",
   "execution_count": 8,
   "id": "4e3f6753-e7af-43af-b2bb-4162d1915558",
   "metadata": {},
   "outputs": [
    {
     "name": "stdout",
     "output_type": "stream",
     "text": [
      "User definrd package imported\n"
     ]
    }
   ],
   "source": [
    "modd.first()"
   ]
  },
  {
   "cell_type": "code",
   "execution_count": null,
   "id": "1e86d371-7819-42ca-afdb-52529d26274b",
   "metadata": {},
   "outputs": [],
   "source": []
  }
 ],
 "metadata": {
  "kernelspec": {
   "display_name": "Python 3 (ipykernel)",
   "language": "python",
   "name": "python3"
  },
  "language_info": {
   "codemirror_mode": {
    "name": "ipython",
    "version": 3
   },
   "file_extension": ".py",
   "mimetype": "text/x-python",
   "name": "python",
   "nbconvert_exporter": "python",
   "pygments_lexer": "ipython3",
   "version": "3.11.7"
  }
 },
 "nbformat": 4,
 "nbformat_minor": 5
}
