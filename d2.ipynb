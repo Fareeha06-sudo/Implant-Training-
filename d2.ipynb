{
 "cells": [
  {
   "cell_type": "code",
   "execution_count": 1,
   "id": "599e73e2-d5b9-4e28-82e5-90dfe3a57642",
   "metadata": {},
   "outputs": [
    {
     "name": "stdin",
     "output_type": "stream",
     "text": [
      "Enter any number  45\n"
     ]
    },
    {
     "name": "stdout",
     "output_type": "stream",
     "text": [
      "Number is less than 50\n"
     ]
    }
   ],
   "source": [
    "# number greater than 50\n",
    "num = int ( input( 'Enter any number '))\n",
    "\n",
    "if num >50 :\n",
    "    print('Number is geater than 50')\n",
    "else :\n",
    "        print('Number is less than 50')\n"
   ]
  },
  {
   "cell_type": "code",
   "execution_count": 7,
   "id": "bad76e3a-02d0-472f-ae81-b56feb9a4e64",
   "metadata": {},
   "outputs": [
    {
     "name": "stdin",
     "output_type": "stream",
     "text": [
      "Enter any number  0\n"
     ]
    },
    {
     "name": "stdout",
     "output_type": "stream",
     "text": [
      "Neutral\n"
     ]
    }
   ],
   "source": [
    "# number is positive or negative \n",
    "num1 = int ( input( 'Enter any number '))\n",
    "if num1>0:\n",
    "   print('Positive')\n",
    "elif num1 ==0:\n",
    "    print ('Neutral')\n",
    "else :\n",
    "    print('Negative')\n"
   ]
  },
  {
   "cell_type": "code",
   "execution_count": 12,
   "id": "b9c48f9b-6b24-4fa7-8467-c105bcd5d2f6",
   "metadata": {},
   "outputs": [
    {
     "name": "stdin",
     "output_type": "stream",
     "text": [
      "Enter any number  0\n"
     ]
    },
    {
     "name": "stdout",
     "output_type": "stream",
     "text": [
      "even number \n"
     ]
    }
   ],
   "source": [
    "num2 = int ( input( 'Enter any number '))\n",
    "if ((num2 %2) ==0):\n",
    "    print ('even number ')\n",
    "else :\n",
    "    print(' odd number')"
   ]
  },
  {
   "cell_type": "code",
   "execution_count": 13,
   "id": "06068efa-e225-4f0b-8e8d-9368b9c18391",
   "metadata": {},
   "outputs": [
    {
     "data": {
      "text/plain": [
       "2"
      ]
     },
     "execution_count": 13,
     "metadata": {},
     "output_type": "execute_result"
    }
   ],
   "source": [
    "True + True + False"
   ]
  },
  {
   "cell_type": "code",
   "execution_count": 17,
   "id": "e61c8c5d-6d86-47ee-94a0-f6e9f793968d",
   "metadata": {},
   "outputs": [
    {
     "name": "stdout",
     "output_type": "stream",
     "text": [
      "yes \n"
     ]
    }
   ],
   "source": [
    "b= 40\n",
    "if a:\n",
    "    print('yes ')"
   ]
  },
  {
   "cell_type": "code",
   "execution_count": 21,
   "id": "9195827c-f87a-49db-b248-64a92519d4f6",
   "metadata": {},
   "outputs": [
    {
     "name": "stdin",
     "output_type": "stream",
     "text": [
      "Enter any number  67\n"
     ]
    },
    {
     "name": "stdout",
     "output_type": "stream",
     "text": [
      "condition satisfied\n"
     ]
    }
   ],
   "source": [
    "num3 = int ( input( 'Enter any number '))\n",
    "if num3 >50 and num3<150:\n",
    "    print ('condition satisfied')\n",
    "\n",
    "#if num3>1:\n",
    "#if num3<50:\n",
    "#print()\n",
    "\n"
   ]
  },
  {
   "cell_type": "code",
   "execution_count": 26,
   "id": "96965f1a-5004-4a49-816c-2a6e9ae22c25",
   "metadata": {},
   "outputs": [
    {
     "name": "stdin",
     "output_type": "stream",
     "text": [
      "Enter selling price of product 678\n",
      "Enter cost price of product  430\n"
     ]
    },
    {
     "name": "stdout",
     "output_type": "stream",
     "text": [
      "Profit\n",
      "Of Rupees 248\n"
     ]
    }
   ],
   "source": [
    "# input selling price and purchase price .. display profit or loss with amount  \n",
    "sell=int ( input( 'Enter selling price of product'))\n",
    "cost=int ( input( 'Enter cost price of product '))\n",
    "\n",
    "if sell>cost:\n",
    "    print ('Profit')\n",
    "    print('Of Rupees',sell-cost)\n",
    "elif cost>sell:\n",
    "    print('Loss')\n",
    "    print('Of Rupees',cost - sell)\n",
    "else:\n",
    "    print (' purshase price and selling price are equal')\n",
    "    "
   ]
  },
  {
   "cell_type": "code",
   "execution_count": 25,
   "id": "d735619f-0ea5-4071-bf82-e35dc6bd546c",
   "metadata": {},
   "outputs": [
    {
     "name": "stdin",
     "output_type": "stream",
     "text": [
      "Enter first number 23\n",
      "Enter second number 56\n",
      "Enter third number 34\n"
     ]
    },
    {
     "name": "stdout",
     "output_type": "stream",
     "text": [
      "56 is greatest \n"
     ]
    }
   ],
   "source": [
    "# 3 nums find largest \n",
    "val1=int ( input( 'Enter first number'))\n",
    "val2=int ( input( 'Enter second number'))\n",
    "val3=int ( input( 'Enter third number'))\n",
    "\n",
    "if val1 > val2:\n",
    "    if val1> val3:\n",
    "        print (val1, 'is greatest ')\n",
    "elif val2 > val3:\n",
    "    if val2> val1:\n",
    "        print (val2, 'is greatest ')  \n",
    "elif  val3 > val2:\n",
    "    if val3> val1:\n",
    "        print (val3, 'is greatest ') \n",
    "else :\n",
    "    print (\"All numbers are equal\")\n",
    "        \n",
    "        \n",
    "        "
   ]
  },
  {
   "cell_type": "code",
   "execution_count": 48,
   "id": "be27ebaf-e3c9-4903-b2b3-dab6f4c4a97c",
   "metadata": {},
   "outputs": [
    {
     "name": "stdin",
     "output_type": "stream",
     "text": [
      "Enter any year :  1800\n"
     ]
    },
    {
     "name": "stdout",
     "output_type": "stream",
     "text": [
      "not leap year\n"
     ]
    }
   ],
   "source": [
    "# program for finding if a year is leap or not\n",
    "\n",
    "year = int (input('Enter any year : '))\n",
    "if year % 4 == 0:\n",
    "     if year % 100 == 0:\n",
    "       if year % 400 == 0:\n",
    "                print('leap century year')\n",
    "       else:\n",
    "                print ('not leap year')\n",
    "     else:\n",
    "             print (' leap year')\n",
    "else:\n",
    "      print ('not leap year')"
   ]
  },
  {
   "cell_type": "code",
   "execution_count": 54,
   "id": "f8f9076e-b568-4301-822d-a63cf8992875",
   "metadata": {},
   "outputs": [
    {
     "name": "stdin",
     "output_type": "stream",
     "text": [
      "Enter marks of student : 101\n"
     ]
    },
    {
     "name": "stdout",
     "output_type": "stream",
     "text": [
      "Your grade is: FAil \n"
     ]
    }
   ],
   "source": [
    "marks = int (input ( 'Enter marks of student :'))\n",
    "\n",
    "if marks > 60 and marks <= 100:\n",
    "  print ('Your grade is: First class ')\n",
    "elif marks > 50 and marks <=60:\n",
    "    print ('Your grade is: Second class ')\n",
    "elif marks > 40 and marks <=50:\n",
    "    print ('Your grade is: Third  class ')    \n",
    "elif marks > 35 and marks <=40:\n",
    "    print ('Your grade is: Pass')\n",
    "elif marks > 0 and marks <=350:\n",
    "    print ('Your grade is: FAil ')\n",
    "else :\n",
    "    print('Invalid grade ')"
   ]
  },
  {
   "cell_type": "code",
   "execution_count": null,
   "id": "867f324e-4cf5-4112-95f9-2f327a0ebb87",
   "metadata": {},
   "outputs": [],
   "source": [
    "no = int(input(' Enter any number'))\n",
    "print ('**MENU**  \\n 1.Square \\n 2.Cube \\n 3.Postive or Negative ')\n",
    "ch= int(input(' Enter your choice'))\n",
    "if choice ==1 \n"
   ]
  },
  {
   "cell_type": "code",
   "execution_count": 56,
   "id": "13aaf957-1a9c-413a-91e3-0ae4ca0f7d97",
   "metadata": {},
   "outputs": [
    {
     "name": "stdin",
     "output_type": "stream",
     "text": [
      " Enter 1st number 35\n",
      " Enter 2nd number 56\n"
     ]
    },
    {
     "name": "stdout",
     "output_type": "stream",
     "text": [
      "**MENU**  \n",
      " 1.Addition \n",
      " 2.Subtraction \n",
      " 3.Floor division \n",
      " 4. Greatest of both \n"
     ]
    },
    {
     "name": "stdin",
     "output_type": "stream",
     "text": [
      " Enter your choice 4\n"
     ]
    },
    {
     "name": "stdout",
     "output_type": "stream",
     "text": [
      "56 is greater \n"
     ]
    }
   ],
   "source": [
    "n1 = int(input(' Enter 1st number'))\n",
    "n2 = int(input(' Enter 2nd number'))\n",
    "print ('**MENU**  \\n 1.Addition \\n 2.Subtraction \\n 3.Floor division \\n 4. Greatest of both ')\n",
    "ch= int(input(' Enter your choice'))\n",
    "if ch == 1:\n",
    "    print('Addition is : ', n1+n2) \n",
    "elif ch == 2:\n",
    "    print('subtraction is : ', n1-n2) \n",
    "elif ch == 3:\n",
    "    print('subtraction is : ', n1//n2)  \n",
    "elif ch == 4:\n",
    "    if n1>n2:\n",
    "        print (n1, 'is greater')\n",
    "    else : \n",
    "        print (n2, 'is greater ')\n",
    "else :\n",
    "    print('Invalid choice')\n"
   ]
  },
  {
   "cell_type": "code",
   "execution_count": null,
   "id": "4937ee45-a886-4f55-8d56-2cf8ef1262d1",
   "metadata": {},
   "outputs": [],
   "source": []
  }
 ],
 "metadata": {
  "kernelspec": {
   "display_name": "Python 3 (ipykernel)",
   "language": "python",
   "name": "python3"
  },
  "language_info": {
   "codemirror_mode": {
    "name": "ipython",
    "version": 3
   },
   "file_extension": ".py",
   "mimetype": "text/x-python",
   "name": "python",
   "nbconvert_exporter": "python",
   "pygments_lexer": "ipython3",
   "version": "3.11.7"
  }
 },
 "nbformat": 4,
 "nbformat_minor": 5
}
